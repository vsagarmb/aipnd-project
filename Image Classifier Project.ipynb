{
  "nbformat": 4,
  "nbformat_minor": 0,
  "metadata": {
    "colab": {
      "name": "Image Classifier Project.ipynb",
      "version": "0.3.2",
      "provenance": [],
      "include_colab_link": true
    },
    "language_info": {
      "codemirror_mode": {
        "name": "ipython",
        "version": 3
      },
      "file_extension": ".py",
      "mimetype": "text/x-python",
      "name": "python",
      "nbconvert_exporter": "python",
      "pygments_lexer": "ipython3",
      "version": "3.6.6"
    },
    "kernelspec": {
      "name": "python3",
      "display_name": "Python 3"
    },
    "accelerator": "GPU"
  },
  "cells": [
    {
      "cell_type": "markdown",
      "metadata": {
        "id": "view-in-github",
        "colab_type": "text"
      },
      "source": [
        "<a href=\"https://colab.research.google.com/github/vsagarmb/aipnd-project/blob/master/Image%20Classifier%20Project.ipynb\" target=\"_parent\"><img src=\"https://colab.research.google.com/assets/colab-badge.svg\" alt=\"Open In Colab\"/></a>"
      ]
    },
    {
      "metadata": {
        "id": "xqAnMzMOGiUC",
        "colab_type": "text"
      },
      "cell_type": "markdown",
      "source": [
        "# Developing an AI application\n",
        "\n",
        "Going forward, AI algorithms will be incorporated into more and more everyday applications. For example, you might want to include an image classifier in a smart phone app. To do this, you'd use a deep learning model trained on hundreds of thousands of images as part of the overall application architecture. A large part of software development in the future will be using these types of models as common parts of applications. \n",
        "\n",
        "In this project, you'll train an image classifier to recognize different species of flowers. You can imagine using something like this in a phone app that tells you the name of the flower your camera is looking at. In practice you'd train this classifier, then export it for use in your application. We'll be using [this dataset](http://www.robots.ox.ac.uk/~vgg/data/flowers/102/index.html) of 102 flower categories, you can see a few examples below. \n",
        "\n",
        "<img src='https://github.com/vsagarmb/aipnd-project/blob/master/assets/Flowers.png?raw=1' width=500px>\n",
        "\n",
        "The project is broken down into multiple steps:\n",
        "\n",
        "* Load and preprocess the image dataset\n",
        "* Train the image classifier on your dataset\n",
        "* Use the trained classifier to predict image content\n",
        "\n",
        "We'll lead you through each part which you'll implement in Python.\n",
        "\n",
        "When you've completed this project, you'll have an application that can be trained on any set of labeled images. Here your network will be learning about flowers and end up as a command line application. But, what you do with your new skills depends on your imagination and effort in building a dataset. For example, imagine an app where you take a picture of a car, it tells you what the make and model is, then looks up information about it. Go build your own dataset and make something new.\n",
        "\n",
        "First up is importing the packages you'll need. It's good practice to keep all the imports at the beginning of your code. As you work through this notebook and find you need to import a package, make sure to add the import up here."
      ]
    },
    {
      "metadata": {
        "id": "urmlXItbGiUK",
        "colab_type": "code",
        "colab": {}
      },
      "cell_type": "code",
      "source": [
        "# Imports here\n",
        "\n",
        "%matplotlib inline\n",
        "%config InlineBackend.figure_format = 'retina'\n",
        "\n",
        "import matplotlib.pyplot as plt\n",
        "\n",
        "import torch\n",
        "from torch import nn\n",
        "from torch import optim\n",
        "import torch.nn.functional as F\n",
        "from torchvision import datasets, transforms, models"
      ],
      "execution_count": 0,
      "outputs": []
    },
    {
      "metadata": {
        "id": "tc83Xjx0Gzhm",
        "colab_type": "code",
        "colab": {
          "base_uri": "https://localhost:8080/",
          "height": 206
        },
        "outputId": "d7ee08f0-1f0c-462e-95d7-645e6c121bf9"
      },
      "cell_type": "code",
      "source": [
        "!wget https://s3.amazonaws.com/content.udacity-data.com/nd089/flower_data.tar.gz"
      ],
      "execution_count": 3,
      "outputs": [
        {
          "output_type": "stream",
          "text": [
            "--2019-04-21 03:04:09--  https://s3.amazonaws.com/content.udacity-data.com/nd089/flower_data.tar.gz\n",
            "Resolving s3.amazonaws.com (s3.amazonaws.com)... 52.216.10.69\n",
            "Connecting to s3.amazonaws.com (s3.amazonaws.com)|52.216.10.69|:443... connected.\n",
            "HTTP request sent, awaiting response... 200 OK\n",
            "Length: 344873452 (329M) [application/x-gzip]\n",
            "Saving to: ‘flower_data.tar.gz’\n",
            "\n",
            "flower_data.tar.gz  100%[===================>] 328.90M  14.3MB/s    in 25s     \n",
            "\n",
            "2019-04-21 03:04:35 (13.1 MB/s) - ‘flower_data.tar.gz’ saved [344873452/344873452]\n",
            "\n"
          ],
          "name": "stdout"
        }
      ]
    },
    {
      "metadata": {
        "id": "k-cHyxTYG_YZ",
        "colab_type": "code",
        "colab": {
          "base_uri": "https://localhost:8080/",
          "height": 51
        },
        "outputId": "ad347eb8-b1ad-49fa-d7a2-aff11d5478af"
      },
      "cell_type": "code",
      "source": [
        "# UNZIP ZIP\n",
        "import tarfile\n",
        "print (\"Uncompressing zip file...\")\n",
        "tar = tarfile.open('flower_data.tar.gz', \"r:gz\")\n",
        "tar.extractall('./flowers')\n",
        "tar.close()\n",
        "print (\"Uncompressing Successful!\")"
      ],
      "execution_count": 4,
      "outputs": [
        {
          "output_type": "stream",
          "text": [
            "Uncompressing zip file...\n",
            "Uncompressing Successful!\n"
          ],
          "name": "stdout"
        }
      ]
    },
    {
      "metadata": {
        "id": "_ZwV9sv3lg36",
        "colab_type": "code",
        "colab": {
          "base_uri": "https://localhost:8080/",
          "height": 34
        },
        "outputId": "ff65841a-7ab3-453e-c818-f07f9d8a3e51"
      },
      "cell_type": "code",
      "source": [
        "!ls"
      ],
      "execution_count": 5,
      "outputs": [
        {
          "output_type": "stream",
          "text": [
            "checkpoint.pth\tflower_data.tar.gz  flowers  sample_data\n"
          ],
          "name": "stdout"
        }
      ]
    },
    {
      "metadata": {
        "id": "hvQKtq_4K-xR",
        "colab_type": "code",
        "colab": {
          "base_uri": "https://localhost:8080/",
          "height": 206
        },
        "outputId": "32a54cfa-6bd9-41fe-d0d2-a0a08d790949"
      },
      "cell_type": "code",
      "source": [
        "!wget https://raw.githubusercontent.com/vsagarmb/aipnd-project/master/cat_to_name.json"
      ],
      "execution_count": 6,
      "outputs": [
        {
          "output_type": "stream",
          "text": [
            "--2019-04-21 03:05:29--  https://raw.githubusercontent.com/vsagarmb/aipnd-project/master/cat_to_name.json\n",
            "Resolving raw.githubusercontent.com (raw.githubusercontent.com)... 151.101.0.133, 151.101.64.133, 151.101.128.133, ...\n",
            "Connecting to raw.githubusercontent.com (raw.githubusercontent.com)|151.101.0.133|:443... connected.\n",
            "HTTP request sent, awaiting response... 200 OK\n",
            "Length: 2218 (2.2K) [text/plain]\n",
            "Saving to: ‘cat_to_name.json’\n",
            "\n",
            "\rcat_to_name.json      0%[                    ]       0  --.-KB/s               \rcat_to_name.json    100%[===================>]   2.17K  --.-KB/s    in 0s      \n",
            "\n",
            "2019-04-21 03:05:29 (58.4 MB/s) - ‘cat_to_name.json’ saved [2218/2218]\n",
            "\n"
          ],
          "name": "stdout"
        }
      ]
    },
    {
      "metadata": {
        "id": "f_4Wbj8NLCaO",
        "colab_type": "code",
        "colab": {
          "base_uri": "https://localhost:8080/",
          "height": 51
        },
        "outputId": "dab96ddb-ec1b-48c4-8a7e-93c994f6335e"
      },
      "cell_type": "code",
      "source": [
        "!ls\n"
      ],
      "execution_count": 14,
      "outputs": [
        {
          "output_type": "stream",
          "text": [
            "cat_to_name.json  checkpoint.pth  flower_data.tar.gz  flowers  sample_data\n",
            "cat_to_name.json  flower_data.tar.gz  flowers  sample_data\n"
          ],
          "name": "stdout"
        }
      ]
    },
    {
      "metadata": {
        "id": "x3yFvcjBGiUQ",
        "colab_type": "text"
      },
      "cell_type": "markdown",
      "source": [
        "## Load the data\n",
        "\n",
        "Here you'll use `torchvision` to load the data ([documentation](http://pytorch.org/docs/0.3.0/torchvision/index.html)). The data should be included alongside this notebook, otherwise you can [download it here](https://s3.amazonaws.com/content.udacity-data.com/nd089/flower_data.tar.gz). The dataset is split into three parts, training, validation, and testing. For the training, you'll want to apply transformations such as random scaling, cropping, and flipping. This will help the network generalize leading to better performance. You'll also need to make sure the input data is resized to 224x224 pixels as required by the pre-trained networks.\n",
        "\n",
        "The validation and testing sets are used to measure the model's performance on data it hasn't seen yet. For this you don't want any scaling or rotation transformations, but you'll need to resize then crop the images to the appropriate size.\n",
        "\n",
        "The pre-trained networks you'll use were trained on the ImageNet dataset where each color channel was normalized separately. For all three sets you'll need to normalize the means and standard deviations of the images to what the network expects. For the means, it's `[0.485, 0.456, 0.406]` and for the standard deviations `[0.229, 0.224, 0.225]`, calculated from the ImageNet images.  These values will shift each color channel to be centered at 0 and range from -1 to 1.\n",
        " "
      ]
    },
    {
      "metadata": {
        "id": "yxHRMGdvGiUS",
        "colab_type": "code",
        "colab": {}
      },
      "cell_type": "code",
      "source": [
        "data_dir = 'flowers'\n",
        "train_dir = data_dir + '/train'\n",
        "valid_dir = data_dir + '/valid'\n",
        "test_dir = data_dir + '/test'"
      ],
      "execution_count": 0,
      "outputs": []
    },
    {
      "metadata": {
        "id": "6JY3CLm3GiUY",
        "colab_type": "code",
        "colab": {}
      },
      "cell_type": "code",
      "source": [
        "# TODO: Define your transforms for the training, validation, and testing sets\n",
        "train_transforms = transforms.Compose([transforms.RandomRotation(30),\n",
        "                                       transforms.RandomResizedCrop(224),\n",
        "                                       transforms.RandomHorizontalFlip(),\n",
        "                                       transforms.ToTensor(),\n",
        "                                       transforms.Normalize([0.485, 0.456, 0.406],\n",
        "                                                            [0.229, 0.224, 0.225])])\n",
        "\n",
        "test_transforms =  transforms.Compose([transforms.Resize(255),\n",
        "                                       transforms.CenterCrop(224),\n",
        "                                       transforms.ToTensor(),\n",
        "                                       transforms.Normalize([0.485, 0.456, 0.406],\n",
        "                                                            [0.229, 0.224, 0.225])])\n",
        "# TODO: Load the datasets with ImageFolder\n",
        "train_data = datasets.ImageFolder(train_dir, transform=train_transforms)\n",
        "valid_data = datasets.ImageFolder(valid_dir, transform=test_transforms )\n",
        "test_data  = datasets.ImageFolder(test_dir , transform=test_transforms )\n",
        "\n",
        "# TODO: Using the image datasets and the trainforms, define the dataloaders\n",
        "trainloader = torch.utils.data.DataLoader(train_data, batch_size=64, shuffle=True)\n",
        "validloader = torch.utils.data.DataLoader(valid_data, batch_size=64)\n",
        "testloader =  torch.utils.data.DataLoader(test_data , batch_size=64)\n"
      ],
      "execution_count": 0,
      "outputs": []
    },
    {
      "metadata": {
        "id": "nsOHDJ2lGiUb",
        "colab_type": "text"
      },
      "cell_type": "markdown",
      "source": [
        "### Label mapping\n",
        "\n",
        "You'll also need to load in a mapping from category label to category name. You can find this in the file `cat_to_name.json`. It's a JSON object which you can read in with the [`json` module](https://docs.python.org/2/library/json.html). This will give you a dictionary mapping the integer encoded categories to the actual names of the flowers."
      ]
    },
    {
      "metadata": {
        "id": "jXn5XZEDGiUd",
        "colab_type": "code",
        "colab": {}
      },
      "cell_type": "code",
      "source": [
        "import json\n",
        "\n",
        "with open('cat_to_name.json', 'r') as f:\n",
        "    cat_to_name = json.load(f)"
      ],
      "execution_count": 0,
      "outputs": []
    },
    {
      "metadata": {
        "id": "XHwYlE0_a26H",
        "colab_type": "code",
        "colab": {
          "base_uri": "https://localhost:8080/",
          "height": 171
        },
        "outputId": "5b2ef318-75e8-48d0-8623-b33d1652aec8"
      },
      "cell_type": "code",
      "source": [
        "for i in range(1, 10):\n",
        "    print(f'{str(i)}: {cat_to_name[str(i)]}')"
      ],
      "execution_count": 10,
      "outputs": [
        {
          "output_type": "stream",
          "text": [
            "1: pink primrose\n",
            "2: hard-leaved pocket orchid\n",
            "3: canterbury bells\n",
            "4: sweet pea\n",
            "5: english marigold\n",
            "6: tiger lily\n",
            "7: moon orchid\n",
            "8: bird of paradise\n",
            "9: monkshood\n"
          ],
          "name": "stdout"
        }
      ]
    },
    {
      "metadata": {
        "id": "P_ar35y1GiUf",
        "colab_type": "text"
      },
      "cell_type": "markdown",
      "source": [
        "# Building and training the classifier\n",
        "\n",
        "Now that the data is ready, it's time to build and train the classifier. As usual, you should use one of the pretrained models from `torchvision.models` to get the image features. Build and train a new feed-forward classifier using those features.\n",
        "\n",
        "We're going to leave this part up to you. Refer to [the rubric](https://review.udacity.com/#!/rubrics/1663/view) for guidance on successfully completing this section. Things you'll need to do:\n",
        "\n",
        "* Load a [pre-trained network](http://pytorch.org/docs/master/torchvision/models.html) (If you need a starting point, the VGG networks work great and are straightforward to use)\n",
        "* Define a new, untrained feed-forward network as a classifier, using ReLU activations and dropout\n",
        "* Train the classifier layers using backpropagation using the pre-trained network to get the features\n",
        "* Track the loss and accuracy on the validation set to determine the best hyperparameters\n",
        "\n",
        "We've left a cell open for you below, but use as many as you need. Our advice is to break the problem up into smaller parts you can run separately. Check that each part is doing what you expect, then move on to the next. You'll likely find that as you work through each part, you'll need to go back and modify your previous code. This is totally normal!\n",
        "\n",
        "When training make sure you're updating only the weights of the feed-forward network. You should be able to get the validation accuracy above 70% if you build everything right. Make sure to try different hyperparameters (learning rate, units in the classifier, epochs, etc) to find the best model. Save those hyperparameters to use as default values in the next part of the project.\n",
        "\n",
        "One last important tip if you're using the workspace to run your code: To avoid having your workspace disconnect during the long-running tasks in this notebook, please read in the earlier page in this lesson called Intro to\n",
        "GPU Workspaces about Keeping Your Session Active. You'll want to include code from the workspace_utils.py module.\n",
        "\n",
        "**Note for Workspace users:** If your network is over 1 GB when saved as a checkpoint, there might be issues with saving backups in your workspace. Typically this happens with wide dense layers after the convolutional layers. If your saved checkpoint is larger than 1 GB (you can open a terminal and check with `ls -lh`), you should reduce the size of your hidden layers and train again."
      ]
    },
    {
      "metadata": {
        "id": "U9Hb2QAEGiUg",
        "colab_type": "code",
        "colab": {
          "base_uri": "https://localhost:8080/",
          "height": 823
        },
        "outputId": "11480e7f-2a1f-471f-b012-3917f9983b94"
      },
      "cell_type": "code",
      "source": [
        "# TODO: Build and train your network\n",
        "model = models.vgg16(pretrained=True)\n",
        "\n",
        "device = torch.device(\"cuda\" if torch.cuda.is_available() else \"cpu\")\n",
        "\n",
        "model"
      ],
      "execution_count": 11,
      "outputs": [
        {
          "output_type": "stream",
          "text": [
            "Downloading: \"https://download.pytorch.org/models/vgg16-397923af.pth\" to /root/.torch/models/vgg16-397923af.pth\n",
            "553433881it [00:05, 93884051.71it/s]\n"
          ],
          "name": "stderr"
        },
        {
          "output_type": "execute_result",
          "data": {
            "text/plain": [
              "VGG(\n",
              "  (features): Sequential(\n",
              "    (0): Conv2d(3, 64, kernel_size=(3, 3), stride=(1, 1), padding=(1, 1))\n",
              "    (1): ReLU(inplace)\n",
              "    (2): Conv2d(64, 64, kernel_size=(3, 3), stride=(1, 1), padding=(1, 1))\n",
              "    (3): ReLU(inplace)\n",
              "    (4): MaxPool2d(kernel_size=2, stride=2, padding=0, dilation=1, ceil_mode=False)\n",
              "    (5): Conv2d(64, 128, kernel_size=(3, 3), stride=(1, 1), padding=(1, 1))\n",
              "    (6): ReLU(inplace)\n",
              "    (7): Conv2d(128, 128, kernel_size=(3, 3), stride=(1, 1), padding=(1, 1))\n",
              "    (8): ReLU(inplace)\n",
              "    (9): MaxPool2d(kernel_size=2, stride=2, padding=0, dilation=1, ceil_mode=False)\n",
              "    (10): Conv2d(128, 256, kernel_size=(3, 3), stride=(1, 1), padding=(1, 1))\n",
              "    (11): ReLU(inplace)\n",
              "    (12): Conv2d(256, 256, kernel_size=(3, 3), stride=(1, 1), padding=(1, 1))\n",
              "    (13): ReLU(inplace)\n",
              "    (14): Conv2d(256, 256, kernel_size=(3, 3), stride=(1, 1), padding=(1, 1))\n",
              "    (15): ReLU(inplace)\n",
              "    (16): MaxPool2d(kernel_size=2, stride=2, padding=0, dilation=1, ceil_mode=False)\n",
              "    (17): Conv2d(256, 512, kernel_size=(3, 3), stride=(1, 1), padding=(1, 1))\n",
              "    (18): ReLU(inplace)\n",
              "    (19): Conv2d(512, 512, kernel_size=(3, 3), stride=(1, 1), padding=(1, 1))\n",
              "    (20): ReLU(inplace)\n",
              "    (21): Conv2d(512, 512, kernel_size=(3, 3), stride=(1, 1), padding=(1, 1))\n",
              "    (22): ReLU(inplace)\n",
              "    (23): MaxPool2d(kernel_size=2, stride=2, padding=0, dilation=1, ceil_mode=False)\n",
              "    (24): Conv2d(512, 512, kernel_size=(3, 3), stride=(1, 1), padding=(1, 1))\n",
              "    (25): ReLU(inplace)\n",
              "    (26): Conv2d(512, 512, kernel_size=(3, 3), stride=(1, 1), padding=(1, 1))\n",
              "    (27): ReLU(inplace)\n",
              "    (28): Conv2d(512, 512, kernel_size=(3, 3), stride=(1, 1), padding=(1, 1))\n",
              "    (29): ReLU(inplace)\n",
              "    (30): MaxPool2d(kernel_size=2, stride=2, padding=0, dilation=1, ceil_mode=False)\n",
              "  )\n",
              "  (avgpool): AdaptiveAvgPool2d(output_size=(7, 7))\n",
              "  (classifier): Sequential(\n",
              "    (0): Linear(in_features=25088, out_features=4096, bias=True)\n",
              "    (1): ReLU(inplace)\n",
              "    (2): Dropout(p=0.5)\n",
              "    (3): Linear(in_features=4096, out_features=4096, bias=True)\n",
              "    (4): ReLU(inplace)\n",
              "    (5): Dropout(p=0.5)\n",
              "    (6): Linear(in_features=4096, out_features=1000, bias=True)\n",
              "  )\n",
              ")"
            ]
          },
          "metadata": {
            "tags": []
          },
          "execution_count": 11
        }
      ]
    },
    {
      "metadata": {
        "id": "hYw6-p0WjPRM",
        "colab_type": "code",
        "colab": {
          "base_uri": "https://localhost:8080/",
          "height": 754
        },
        "outputId": "253423c8-8fdc-490d-d56c-53539db5a1ff"
      },
      "cell_type": "code",
      "source": [
        "# Freeze parameters so we don't backprop through them\n",
        "for param in model.parameters():\n",
        "    param.requires_grad = False\n",
        "\n",
        "from collections import OrderedDict\n",
        "classifier = nn.Sequential(OrderedDict([\n",
        "                          ('fc1', nn.Linear(25088, 12544)),\n",
        "                          ('relu', nn.ReLU()),\n",
        "                          ('dropout', nn.Dropout(0.2)),\n",
        "                          ('fc2', nn.Linear(12544, 102)),\n",
        "                          ('output', nn.LogSoftmax(dim=1))\n",
        "                          ]))\n",
        "    \n",
        "model.classifier = classifier\n",
        "\n",
        "criterion = nn.NLLLoss()\n",
        "\n",
        "# Only train the classifier parameters, feature parameters are frozen\n",
        "optimizer = optim.Adam(model.classifier.parameters(), lr=0.003)\n",
        "\n",
        "model.to(device)"
      ],
      "execution_count": 17,
      "outputs": [
        {
          "output_type": "execute_result",
          "data": {
            "text/plain": [
              "VGG(\n",
              "  (features): Sequential(\n",
              "    (0): Conv2d(3, 64, kernel_size=(3, 3), stride=(1, 1), padding=(1, 1))\n",
              "    (1): ReLU(inplace)\n",
              "    (2): Conv2d(64, 64, kernel_size=(3, 3), stride=(1, 1), padding=(1, 1))\n",
              "    (3): ReLU(inplace)\n",
              "    (4): MaxPool2d(kernel_size=2, stride=2, padding=0, dilation=1, ceil_mode=False)\n",
              "    (5): Conv2d(64, 128, kernel_size=(3, 3), stride=(1, 1), padding=(1, 1))\n",
              "    (6): ReLU(inplace)\n",
              "    (7): Conv2d(128, 128, kernel_size=(3, 3), stride=(1, 1), padding=(1, 1))\n",
              "    (8): ReLU(inplace)\n",
              "    (9): MaxPool2d(kernel_size=2, stride=2, padding=0, dilation=1, ceil_mode=False)\n",
              "    (10): Conv2d(128, 256, kernel_size=(3, 3), stride=(1, 1), padding=(1, 1))\n",
              "    (11): ReLU(inplace)\n",
              "    (12): Conv2d(256, 256, kernel_size=(3, 3), stride=(1, 1), padding=(1, 1))\n",
              "    (13): ReLU(inplace)\n",
              "    (14): Conv2d(256, 256, kernel_size=(3, 3), stride=(1, 1), padding=(1, 1))\n",
              "    (15): ReLU(inplace)\n",
              "    (16): MaxPool2d(kernel_size=2, stride=2, padding=0, dilation=1, ceil_mode=False)\n",
              "    (17): Conv2d(256, 512, kernel_size=(3, 3), stride=(1, 1), padding=(1, 1))\n",
              "    (18): ReLU(inplace)\n",
              "    (19): Conv2d(512, 512, kernel_size=(3, 3), stride=(1, 1), padding=(1, 1))\n",
              "    (20): ReLU(inplace)\n",
              "    (21): Conv2d(512, 512, kernel_size=(3, 3), stride=(1, 1), padding=(1, 1))\n",
              "    (22): ReLU(inplace)\n",
              "    (23): MaxPool2d(kernel_size=2, stride=2, padding=0, dilation=1, ceil_mode=False)\n",
              "    (24): Conv2d(512, 512, kernel_size=(3, 3), stride=(1, 1), padding=(1, 1))\n",
              "    (25): ReLU(inplace)\n",
              "    (26): Conv2d(512, 512, kernel_size=(3, 3), stride=(1, 1), padding=(1, 1))\n",
              "    (27): ReLU(inplace)\n",
              "    (28): Conv2d(512, 512, kernel_size=(3, 3), stride=(1, 1), padding=(1, 1))\n",
              "    (29): ReLU(inplace)\n",
              "    (30): MaxPool2d(kernel_size=2, stride=2, padding=0, dilation=1, ceil_mode=False)\n",
              "  )\n",
              "  (avgpool): AdaptiveAvgPool2d(output_size=(7, 7))\n",
              "  (classifier): Sequential(\n",
              "    (fc1): Linear(in_features=25088, out_features=12544, bias=True)\n",
              "    (relu): ReLU()\n",
              "    (dropout): Dropout(p=0.2)\n",
              "    (fc2): Linear(in_features=12544, out_features=102, bias=True)\n",
              "    (output): LogSoftmax()\n",
              "  )\n",
              ")"
            ]
          },
          "metadata": {
            "tags": []
          },
          "execution_count": 17
        }
      ]
    },
    {
      "metadata": {
        "id": "2eyCeltVl9gb",
        "colab_type": "code",
        "colab": {
          "base_uri": "https://localhost:8080/",
          "height": 5314
        },
        "outputId": "fb6624e2-2e29-48a1-9e25-e096827045a2"
      },
      "cell_type": "code",
      "source": [
        "epochs = 3\n",
        "running_loss = 0\n",
        "\n",
        "for epoch in range(epochs):\n",
        "    for inputs, labels in trainloader:        \n",
        "                \n",
        "        # Move input and label tensors to the default device\n",
        "        inputs, labels = inputs.to(device), labels.to(device)\n",
        "        \n",
        "        optimizer.zero_grad()\n",
        "        \n",
        "        logps = model.forward(inputs)\n",
        "        loss = criterion(logps, labels)\n",
        "        loss.backward()\n",
        "        optimizer.step()\n",
        "\n",
        "        running_loss = loss.item()\n",
        "        \n",
        "        \n",
        "        test_loss = 0\n",
        "        accuracy = 0\n",
        "        model.eval()\n",
        "        with torch.no_grad():\n",
        "            for inputs, labels in validloader:\n",
        "                inputs, labels = inputs.to(device), labels.to(device)\n",
        "                logps = model.forward(inputs)\n",
        "                batch_loss = criterion(logps, labels)\n",
        "\n",
        "                test_loss += batch_loss.item()\n",
        "\n",
        "                # Calculate accuracy\n",
        "                ps = torch.exp(logps)\n",
        "                top_p, top_class = ps.topk(1, dim=1)\n",
        "                equals = top_class == labels.view(*top_class.shape)\n",
        "                accuracy += torch.mean(equals.type(torch.FloatTensor)).item()\n",
        "\n",
        "        print(f\"Epoch {epoch+1}/{epochs}.. \"\n",
        "              f\"Train loss: {running_loss:.3f}.. \"\n",
        "              f\"Validation loss: {test_loss/len(validloader):.3f}.. \"\n",
        "              f\"Validation accuracy: {accuracy/len(validloader)*100:.3f}%\")\n",
        "        running_loss = 0\n",
        "        model.train()"
      ],
      "execution_count": 18,
      "outputs": [
        {
          "output_type": "stream",
          "text": [
            "Epoch 1/3.. Train loss: 4.650.. Validation loss: 184.496.. Validation accuracy: 0.841%\n",
            "Epoch 1/3.. Train loss: 180.949.. Validation loss: 156.429.. Validation accuracy: 3.005%\n",
            "Epoch 1/3.. Train loss: 147.539.. Validation loss: 147.594.. Validation accuracy: 1.322%\n",
            "Epoch 1/3.. Train loss: 130.140.. Validation loss: 109.672.. Validation accuracy: 3.365%\n",
            "Epoch 1/3.. Train loss: 110.088.. Validation loss: 79.494.. Validation accuracy: 0.962%\n",
            "Epoch 1/3.. Train loss: 73.804.. Validation loss: 51.122.. Validation accuracy: 3.649%\n",
            "Epoch 1/3.. Train loss: 51.242.. Validation loss: 28.974.. Validation accuracy: 2.163%\n",
            "Epoch 1/3.. Train loss: 29.652.. Validation loss: 16.699.. Validation accuracy: 7.212%\n",
            "Epoch 1/3.. Train loss: 16.083.. Validation loss: 9.138.. Validation accuracy: 9.375%\n",
            "Epoch 1/3.. Train loss: 8.773.. Validation loss: 5.832.. Validation accuracy: 7.812%\n",
            "Epoch 1/3.. Train loss: 6.403.. Validation loss: 4.717.. Validation accuracy: 8.894%\n",
            "Epoch 1/3.. Train loss: 4.799.. Validation loss: 4.229.. Validation accuracy: 10.817%\n",
            "Epoch 1/3.. Train loss: 4.618.. Validation loss: 4.063.. Validation accuracy: 14.423%\n",
            "Epoch 1/3.. Train loss: 4.332.. Validation loss: 3.933.. Validation accuracy: 15.024%\n",
            "Epoch 1/3.. Train loss: 4.203.. Validation loss: 3.832.. Validation accuracy: 18.029%\n",
            "Epoch 1/3.. Train loss: 3.991.. Validation loss: 3.789.. Validation accuracy: 18.149%\n",
            "Epoch 1/3.. Train loss: 4.042.. Validation loss: 3.750.. Validation accuracy: 19.952%\n",
            "Epoch 1/3.. Train loss: 3.914.. Validation loss: 3.731.. Validation accuracy: 19.591%\n",
            "Epoch 1/3.. Train loss: 4.029.. Validation loss: 3.682.. Validation accuracy: 20.433%\n",
            "Epoch 1/3.. Train loss: 3.859.. Validation loss: 3.549.. Validation accuracy: 24.279%\n",
            "Epoch 1/3.. Train loss: 3.899.. Validation loss: 3.350.. Validation accuracy: 27.764%\n",
            "Epoch 1/3.. Train loss: 3.805.. Validation loss: 3.209.. Validation accuracy: 29.327%\n",
            "Epoch 1/3.. Train loss: 3.613.. Validation loss: 3.117.. Validation accuracy: 30.889%\n",
            "Epoch 1/3.. Train loss: 3.380.. Validation loss: 3.043.. Validation accuracy: 32.692%\n",
            "Epoch 1/3.. Train loss: 3.339.. Validation loss: 2.974.. Validation accuracy: 34.495%\n",
            "Epoch 1/3.. Train loss: 2.812.. Validation loss: 2.955.. Validation accuracy: 32.812%\n",
            "Epoch 1/3.. Train loss: 3.336.. Validation loss: 2.963.. Validation accuracy: 30.529%\n",
            "Epoch 1/3.. Train loss: 2.978.. Validation loss: 2.923.. Validation accuracy: 31.798%\n",
            "Epoch 1/3.. Train loss: 3.056.. Validation loss: 2.813.. Validation accuracy: 35.457%\n",
            "Epoch 1/3.. Train loss: 3.163.. Validation loss: 2.740.. Validation accuracy: 37.188%\n",
            "Epoch 1/3.. Train loss: 2.789.. Validation loss: 2.752.. Validation accuracy: 37.034%\n",
            "Epoch 1/3.. Train loss: 3.196.. Validation loss: 2.712.. Validation accuracy: 38.837%\n",
            "Epoch 1/3.. Train loss: 3.186.. Validation loss: 2.573.. Validation accuracy: 41.014%\n",
            "Epoch 1/3.. Train loss: 2.814.. Validation loss: 2.455.. Validation accuracy: 42.183%\n",
            "Epoch 1/3.. Train loss: 3.134.. Validation loss: 2.405.. Validation accuracy: 44.173%\n",
            "Epoch 1/3.. Train loss: 2.772.. Validation loss: 2.337.. Validation accuracy: 45.442%\n",
            "Epoch 1/3.. Train loss: 3.429.. Validation loss: 2.258.. Validation accuracy: 46.250%\n",
            "Epoch 1/3.. Train loss: 3.112.. Validation loss: 2.214.. Validation accuracy: 46.837%\n",
            "Epoch 1/3.. Train loss: 2.623.. Validation loss: 2.206.. Validation accuracy: 46.135%\n",
            "Epoch 1/3.. Train loss: 2.533.. Validation loss: 2.242.. Validation accuracy: 45.361%\n",
            "Epoch 1/3.. Train loss: 2.628.. Validation loss: 2.244.. Validation accuracy: 46.082%\n",
            "Epoch 1/3.. Train loss: 3.519.. Validation loss: 2.120.. Validation accuracy: 49.000%\n",
            "Epoch 1/3.. Train loss: 2.868.. Validation loss: 2.040.. Validation accuracy: 49.548%\n",
            "Epoch 1/3.. Train loss: 2.793.. Validation loss: 2.014.. Validation accuracy: 49.990%\n",
            "Epoch 1/3.. Train loss: 2.480.. Validation loss: 2.011.. Validation accuracy: 48.361%\n",
            "Epoch 1/3.. Train loss: 2.284.. Validation loss: 2.056.. Validation accuracy: 47.500%\n",
            "Epoch 1/3.. Train loss: 2.737.. Validation loss: 2.085.. Validation accuracy: 47.226%\n",
            "Epoch 1/3.. Train loss: 2.499.. Validation loss: 2.064.. Validation accuracy: 48.788%\n",
            "Epoch 1/3.. Train loss: 2.592.. Validation loss: 2.016.. Validation accuracy: 48.822%\n",
            "Epoch 1/3.. Train loss: 2.864.. Validation loss: 1.963.. Validation accuracy: 49.404%\n",
            "Epoch 1/3.. Train loss: 2.391.. Validation loss: 1.919.. Validation accuracy: 49.832%\n",
            "Epoch 1/3.. Train loss: 2.460.. Validation loss: 1.914.. Validation accuracy: 49.163%\n",
            "Epoch 1/3.. Train loss: 2.814.. Validation loss: 1.901.. Validation accuracy: 48.976%\n",
            "Epoch 1/3.. Train loss: 2.511.. Validation loss: 1.846.. Validation accuracy: 50.793%\n",
            "Epoch 1/3.. Train loss: 2.880.. Validation loss: 1.753.. Validation accuracy: 53.865%\n",
            "Epoch 1/3.. Train loss: 2.167.. Validation loss: 1.694.. Validation accuracy: 55.856%\n",
            "Epoch 1/3.. Train loss: 2.431.. Validation loss: 1.669.. Validation accuracy: 54.260%\n",
            "Epoch 1/3.. Train loss: 2.058.. Validation loss: 1.686.. Validation accuracy: 54.981%\n",
            "Epoch 1/3.. Train loss: 2.246.. Validation loss: 1.690.. Validation accuracy: 55.154%\n",
            "Epoch 1/3.. Train loss: 2.160.. Validation loss: 1.669.. Validation accuracy: 53.764%\n",
            "Epoch 1/3.. Train loss: 2.607.. Validation loss: 1.617.. Validation accuracy: 56.817%\n",
            "Epoch 1/3.. Train loss: 2.589.. Validation loss: 1.581.. Validation accuracy: 57.572%\n",
            "Epoch 1/3.. Train loss: 2.355.. Validation loss: 1.581.. Validation accuracy: 55.909%\n",
            "Epoch 1/3.. Train loss: 2.144.. Validation loss: 1.577.. Validation accuracy: 54.966%\n",
            "Epoch 1/3.. Train loss: 2.544.. Validation loss: 1.546.. Validation accuracy: 56.750%\n",
            "Epoch 1/3.. Train loss: 2.267.. Validation loss: 1.539.. Validation accuracy: 57.591%\n",
            "Epoch 1/3.. Train loss: 2.396.. Validation loss: 1.579.. Validation accuracy: 56.596%\n",
            "Epoch 1/3.. Train loss: 2.457.. Validation loss: 1.618.. Validation accuracy: 57.077%\n",
            "Epoch 1/3.. Train loss: 1.984.. Validation loss: 1.629.. Validation accuracy: 56.716%\n",
            "Epoch 1/3.. Train loss: 2.726.. Validation loss: 1.608.. Validation accuracy: 56.529%\n",
            "Epoch 1/3.. Train loss: 2.698.. Validation loss: 1.543.. Validation accuracy: 57.644%\n",
            "Epoch 1/3.. Train loss: 2.267.. Validation loss: 1.519.. Validation accuracy: 59.688%\n",
            "Epoch 1/3.. Train loss: 2.149.. Validation loss: 1.530.. Validation accuracy: 57.663%\n",
            "Epoch 1/3.. Train loss: 2.139.. Validation loss: 1.548.. Validation accuracy: 57.269%\n",
            "Epoch 1/3.. Train loss: 2.271.. Validation loss: 1.567.. Validation accuracy: 57.423%\n",
            "Epoch 1/3.. Train loss: 2.534.. Validation loss: 1.571.. Validation accuracy: 57.577%\n",
            "Epoch 1/3.. Train loss: 3.263.. Validation loss: 1.571.. Validation accuracy: 58.332%\n",
            "Epoch 1/3.. Train loss: 2.492.. Validation loss: 1.602.. Validation accuracy: 56.168%\n",
            "Epoch 1/3.. Train loss: 2.652.. Validation loss: 1.576.. Validation accuracy: 57.284%\n",
            "Epoch 1/3.. Train loss: 2.255.. Validation loss: 1.543.. Validation accuracy: 58.212%\n",
            "Epoch 1/3.. Train loss: 1.894.. Validation loss: 1.535.. Validation accuracy: 58.726%\n",
            "Epoch 1/3.. Train loss: 2.308.. Validation loss: 1.504.. Validation accuracy: 59.053%\n",
            "Epoch 1/3.. Train loss: 2.128.. Validation loss: 1.497.. Validation accuracy: 59.361%\n",
            "Epoch 1/3.. Train loss: 2.608.. Validation loss: 1.497.. Validation accuracy: 59.087%\n",
            "Epoch 1/3.. Train loss: 2.042.. Validation loss: 1.483.. Validation accuracy: 60.014%\n",
            "Epoch 1/3.. Train loss: 2.522.. Validation loss: 1.456.. Validation accuracy: 60.596%\n",
            "Epoch 1/3.. Train loss: 2.098.. Validation loss: 1.465.. Validation accuracy: 61.096%\n",
            "Epoch 1/3.. Train loss: 2.113.. Validation loss: 1.500.. Validation accuracy: 60.101%\n",
            "Epoch 1/3.. Train loss: 2.329.. Validation loss: 1.457.. Validation accuracy: 60.683%\n",
            "Epoch 1/3.. Train loss: 2.220.. Validation loss: 1.418.. Validation accuracy: 61.505%\n",
            "Epoch 1/3.. Train loss: 2.379.. Validation loss: 1.383.. Validation accuracy: 61.986%\n",
            "Epoch 1/3.. Train loss: 1.870.. Validation loss: 1.357.. Validation accuracy: 63.014%\n",
            "Epoch 1/3.. Train loss: 2.444.. Validation loss: 1.319.. Validation accuracy: 62.413%\n",
            "Epoch 1/3.. Train loss: 1.782.. Validation loss: 1.322.. Validation accuracy: 61.812%\n",
            "Epoch 1/3.. Train loss: 2.090.. Validation loss: 1.335.. Validation accuracy: 62.466%\n",
            "Epoch 1/3.. Train loss: 2.049.. Validation loss: 1.349.. Validation accuracy: 61.798%\n",
            "Epoch 1/3.. Train loss: 1.936.. Validation loss: 1.354.. Validation accuracy: 61.918%\n",
            "Epoch 1/3.. Train loss: 1.712.. Validation loss: 1.393.. Validation accuracy: 61.437%\n",
            "Epoch 1/3.. Train loss: 2.108.. Validation loss: 1.449.. Validation accuracy: 60.115%\n",
            "Epoch 1/3.. Train loss: 2.223.. Validation loss: 1.523.. Validation accuracy: 59.668%\n",
            "Epoch 1/3.. Train loss: 2.451.. Validation loss: 1.525.. Validation accuracy: 60.596%\n",
            "Epoch 1/3.. Train loss: 2.210.. Validation loss: 1.473.. Validation accuracy: 61.625%\n",
            "Epoch 1/3.. Train loss: 2.651.. Validation loss: 1.440.. Validation accuracy: 61.952%\n",
            "Epoch 2/3.. Train loss: 1.936.. Validation loss: 1.429.. Validation accuracy: 61.952%\n",
            "Epoch 2/3.. Train loss: 1.964.. Validation loss: 1.376.. Validation accuracy: 63.462%\n",
            "Epoch 2/3.. Train loss: 2.161.. Validation loss: 1.354.. Validation accuracy: 64.236%\n",
            "Epoch 2/3.. Train loss: 2.539.. Validation loss: 1.365.. Validation accuracy: 63.654%\n",
            "Epoch 2/3.. Train loss: 2.338.. Validation loss: 1.370.. Validation accuracy: 64.236%\n",
            "Epoch 2/3.. Train loss: 1.861.. Validation loss: 1.376.. Validation accuracy: 63.514%\n",
            "Epoch 2/3.. Train loss: 2.215.. Validation loss: 1.371.. Validation accuracy: 64.937%\n",
            "Epoch 2/3.. Train loss: 2.375.. Validation loss: 1.385.. Validation accuracy: 64.577%\n",
            "Epoch 2/3.. Train loss: 1.860.. Validation loss: 1.374.. Validation accuracy: 63.995%\n",
            "Epoch 2/3.. Train loss: 1.568.. Validation loss: 1.374.. Validation accuracy: 63.187%\n",
            "Epoch 2/3.. Train loss: 1.806.. Validation loss: 1.381.. Validation accuracy: 62.466%\n",
            "Epoch 2/3.. Train loss: 1.857.. Validation loss: 1.413.. Validation accuracy: 62.913%\n",
            "Epoch 2/3.. Train loss: 2.416.. Validation loss: 1.425.. Validation accuracy: 62.707%\n",
            "Epoch 2/3.. Train loss: 1.959.. Validation loss: 1.416.. Validation accuracy: 63.308%\n",
            "Epoch 2/3.. Train loss: 2.243.. Validation loss: 1.383.. Validation accuracy: 63.635%\n",
            "Epoch 2/3.. Train loss: 1.967.. Validation loss: 1.343.. Validation accuracy: 65.197%\n",
            "Epoch 2/3.. Train loss: 2.143.. Validation loss: 1.306.. Validation accuracy: 63.942%\n",
            "Epoch 2/3.. Train loss: 1.715.. Validation loss: 1.338.. Validation accuracy: 64.490%\n",
            "Epoch 2/3.. Train loss: 2.010.. Validation loss: 1.355.. Validation accuracy: 63.957%\n",
            "Epoch 2/3.. Train loss: 1.849.. Validation loss: 1.373.. Validation accuracy: 64.505%\n",
            "Epoch 2/3.. Train loss: 1.986.. Validation loss: 1.374.. Validation accuracy: 64.418%\n",
            "Epoch 2/3.. Train loss: 2.091.. Validation loss: 1.316.. Validation accuracy: 66.394%\n",
            "Epoch 2/3.. Train loss: 2.494.. Validation loss: 1.280.. Validation accuracy: 66.548%\n",
            "Epoch 2/3.. Train loss: 1.749.. Validation loss: 1.274.. Validation accuracy: 66.087%\n",
            "Epoch 2/3.. Train loss: 1.858.. Validation loss: 1.287.. Validation accuracy: 65.813%\n",
            "Epoch 2/3.. Train loss: 2.292.. Validation loss: 1.295.. Validation accuracy: 65.365%\n",
            "Epoch 2/3.. Train loss: 1.900.. Validation loss: 1.298.. Validation accuracy: 65.365%\n",
            "Epoch 2/3.. Train loss: 2.117.. Validation loss: 1.300.. Validation accuracy: 65.933%\n",
            "Epoch 2/3.. Train loss: 2.058.. Validation loss: 1.334.. Validation accuracy: 65.365%\n",
            "Epoch 2/3.. Train loss: 2.302.. Validation loss: 1.353.. Validation accuracy: 66.293%\n",
            "Epoch 2/3.. Train loss: 1.895.. Validation loss: 1.348.. Validation accuracy: 65.591%\n",
            "Epoch 2/3.. Train loss: 1.891.. Validation loss: 1.324.. Validation accuracy: 66.673%\n",
            "Epoch 2/3.. Train loss: 1.896.. Validation loss: 1.289.. Validation accuracy: 66.452%\n",
            "Epoch 2/3.. Train loss: 1.904.. Validation loss: 1.222.. Validation accuracy: 67.038%\n",
            "Epoch 2/3.. Train loss: 1.959.. Validation loss: 1.169.. Validation accuracy: 67.553%\n",
            "Epoch 2/3.. Train loss: 2.144.. Validation loss: 1.116.. Validation accuracy: 67.913%\n",
            "Epoch 2/3.. Train loss: 1.499.. Validation loss: 1.113.. Validation accuracy: 68.308%\n",
            "Epoch 2/3.. Train loss: 2.417.. Validation loss: 1.220.. Validation accuracy: 67.587%\n",
            "Epoch 2/3.. Train loss: 2.081.. Validation loss: 1.264.. Validation accuracy: 67.433%\n",
            "Epoch 2/3.. Train loss: 1.595.. Validation loss: 1.266.. Validation accuracy: 66.298%\n",
            "Epoch 2/3.. Train loss: 2.240.. Validation loss: 1.308.. Validation accuracy: 66.639%\n",
            "Epoch 2/3.. Train loss: 1.883.. Validation loss: 1.329.. Validation accuracy: 66.793%\n",
            "Epoch 2/3.. Train loss: 1.602.. Validation loss: 1.349.. Validation accuracy: 66.226%\n",
            "Epoch 2/3.. Train loss: 2.423.. Validation loss: 1.317.. Validation accuracy: 67.635%\n",
            "Epoch 2/3.. Train loss: 1.493.. Validation loss: 1.303.. Validation accuracy: 68.476%\n",
            "Epoch 2/3.. Train loss: 2.012.. Validation loss: 1.297.. Validation accuracy: 68.389%\n",
            "Epoch 2/3.. Train loss: 2.218.. Validation loss: 1.299.. Validation accuracy: 68.683%\n",
            "Epoch 2/3.. Train loss: 1.727.. Validation loss: 1.306.. Validation accuracy: 68.683%\n",
            "Epoch 2/3.. Train loss: 2.535.. Validation loss: 1.320.. Validation accuracy: 67.808%\n",
            "Epoch 2/3.. Train loss: 1.626.. Validation loss: 1.372.. Validation accuracy: 67.361%\n",
            "Epoch 2/3.. Train loss: 2.133.. Validation loss: 1.373.. Validation accuracy: 67.120%\n",
            "Epoch 2/3.. Train loss: 2.410.. Validation loss: 1.316.. Validation accuracy: 68.029%\n",
            "Epoch 2/3.. Train loss: 3.014.. Validation loss: 1.263.. Validation accuracy: 69.125%\n",
            "Epoch 2/3.. Train loss: 1.891.. Validation loss: 1.205.. Validation accuracy: 69.313%\n",
            "Epoch 2/3.. Train loss: 1.833.. Validation loss: 1.145.. Validation accuracy: 70.601%\n",
            "Epoch 2/3.. Train loss: 1.952.. Validation loss: 1.138.. Validation accuracy: 71.269%\n",
            "Epoch 2/3.. Train loss: 1.793.. Validation loss: 1.145.. Validation accuracy: 70.428%\n",
            "Epoch 2/3.. Train loss: 1.851.. Validation loss: 1.154.. Validation accuracy: 70.514%\n",
            "Epoch 2/3.. Train loss: 1.779.. Validation loss: 1.180.. Validation accuracy: 69.072%\n",
            "Epoch 2/3.. Train loss: 1.692.. Validation loss: 1.207.. Validation accuracy: 69.399%\n",
            "Epoch 2/3.. Train loss: 2.427.. Validation loss: 1.227.. Validation accuracy: 68.111%\n",
            "Epoch 2/3.. Train loss: 1.820.. Validation loss: 1.240.. Validation accuracy: 68.231%\n",
            "Epoch 2/3.. Train loss: 1.967.. Validation loss: 1.227.. Validation accuracy: 69.760%\n",
            "Epoch 2/3.. Train loss: 2.046.. Validation loss: 1.235.. Validation accuracy: 68.611%\n",
            "Epoch 2/3.. Train loss: 2.111.. Validation loss: 1.229.. Validation accuracy: 68.337%\n",
            "Epoch 2/3.. Train loss: 1.764.. Validation loss: 1.256.. Validation accuracy: 67.548%\n",
            "Epoch 2/3.. Train loss: 2.676.. Validation loss: 1.251.. Validation accuracy: 67.274%\n",
            "Epoch 2/3.. Train loss: 2.139.. Validation loss: 1.255.. Validation accuracy: 66.966%\n",
            "Epoch 2/3.. Train loss: 2.116.. Validation loss: 1.255.. Validation accuracy: 68.029%\n",
            "Epoch 2/3.. Train loss: 1.771.. Validation loss: 1.300.. Validation accuracy: 67.668%\n",
            "Epoch 2/3.. Train loss: 2.151.. Validation loss: 1.329.. Validation accuracy: 67.000%\n",
            "Epoch 2/3.. Train loss: 2.057.. Validation loss: 1.290.. Validation accuracy: 67.808%\n",
            "Epoch 2/3.. Train loss: 2.420.. Validation loss: 1.210.. Validation accuracy: 68.375%\n",
            "Epoch 2/3.. Train loss: 2.480.. Validation loss: 1.163.. Validation accuracy: 69.149%\n",
            "Epoch 2/3.. Train loss: 2.100.. Validation loss: 1.142.. Validation accuracy: 69.096%\n",
            "Epoch 2/3.. Train loss: 2.009.. Validation loss: 1.126.. Validation accuracy: 68.976%\n",
            "Epoch 2/3.. Train loss: 2.410.. Validation loss: 1.140.. Validation accuracy: 69.663%\n",
            "Epoch 2/3.. Train loss: 1.865.. Validation loss: 1.157.. Validation accuracy: 69.337%\n",
            "Epoch 2/3.. Train loss: 1.565.. Validation loss: 1.149.. Validation accuracy: 69.817%\n",
            "Epoch 2/3.. Train loss: 1.621.. Validation loss: 1.157.. Validation accuracy: 70.486%\n",
            "Epoch 2/3.. Train loss: 2.364.. Validation loss: 1.174.. Validation accuracy: 69.851%\n",
            "Epoch 2/3.. Train loss: 1.796.. Validation loss: 1.200.. Validation accuracy: 70.159%\n",
            "Epoch 2/3.. Train loss: 2.099.. Validation loss: 1.211.. Validation accuracy: 70.486%\n",
            "Epoch 2/3.. Train loss: 2.253.. Validation loss: 1.171.. Validation accuracy: 70.606%\n",
            "Epoch 2/3.. Train loss: 1.195.. Validation loss: 1.158.. Validation accuracy: 71.000%\n",
            "Epoch 2/3.. Train loss: 1.955.. Validation loss: 1.201.. Validation accuracy: 69.524%\n",
            "Epoch 2/3.. Train loss: 1.684.. Validation loss: 1.297.. Validation accuracy: 67.394%\n",
            "Epoch 2/3.. Train loss: 2.244.. Validation loss: 1.161.. Validation accuracy: 70.226%\n",
            "Epoch 2/3.. Train loss: 2.501.. Validation loss: 1.132.. Validation accuracy: 70.346%\n",
            "Epoch 2/3.. Train loss: 2.217.. Validation loss: 1.161.. Validation accuracy: 68.990%\n",
            "Epoch 2/3.. Train loss: 1.906.. Validation loss: 1.196.. Validation accuracy: 68.870%\n",
            "Epoch 2/3.. Train loss: 2.056.. Validation loss: 1.222.. Validation accuracy: 68.115%\n",
            "Epoch 2/3.. Train loss: 2.104.. Validation loss: 1.224.. Validation accuracy: 68.269%\n",
            "Epoch 2/3.. Train loss: 1.816.. Validation loss: 1.232.. Validation accuracy: 67.394%\n",
            "Epoch 2/3.. Train loss: 2.126.. Validation loss: 1.253.. Validation accuracy: 67.514%\n",
            "Epoch 2/3.. Train loss: 2.105.. Validation loss: 1.275.. Validation accuracy: 68.269%\n",
            "Epoch 2/3.. Train loss: 2.125.. Validation loss: 1.288.. Validation accuracy: 68.663%\n",
            "Epoch 2/3.. Train loss: 2.159.. Validation loss: 1.282.. Validation accuracy: 67.649%\n",
            "Epoch 2/3.. Train loss: 2.246.. Validation loss: 1.298.. Validation accuracy: 66.481%\n",
            "Epoch 2/3.. Train loss: 1.674.. Validation loss: 1.299.. Validation accuracy: 65.212%\n",
            "Epoch 2/3.. Train loss: 1.734.. Validation loss: 1.293.. Validation accuracy: 65.313%\n",
            "Epoch 2/3.. Train loss: 1.642.. Validation loss: 1.278.. Validation accuracy: 66.394%\n",
            "Epoch 2/3.. Train loss: 1.604.. Validation loss: 1.277.. Validation accuracy: 66.788%\n",
            "Epoch 3/3.. Train loss: 1.760.. Validation loss: 1.270.. Validation accuracy: 67.062%\n",
            "Epoch 3/3.. Train loss: 1.224.. Validation loss: 1.257.. Validation accuracy: 67.596%\n",
            "Epoch 3/3.. Train loss: 1.850.. Validation loss: 1.251.. Validation accuracy: 67.202%\n",
            "Epoch 3/3.. Train loss: 1.953.. Validation loss: 1.231.. Validation accuracy: 67.837%\n",
            "Epoch 3/3.. Train loss: 1.534.. Validation loss: 1.226.. Validation accuracy: 67.596%\n",
            "Epoch 3/3.. Train loss: 2.185.. Validation loss: 1.210.. Validation accuracy: 68.197%\n",
            "Epoch 3/3.. Train loss: 1.406.. Validation loss: 1.200.. Validation accuracy: 68.832%\n",
            "Epoch 3/3.. Train loss: 1.683.. Validation loss: 1.243.. Validation accuracy: 68.404%\n",
            "Epoch 3/3.. Train loss: 1.649.. Validation loss: 1.240.. Validation accuracy: 68.250%\n",
            "Epoch 3/3.. Train loss: 1.657.. Validation loss: 1.200.. Validation accuracy: 68.457%\n",
            "Epoch 3/3.. Train loss: 1.646.. Validation loss: 1.200.. Validation accuracy: 69.279%\n",
            "Epoch 3/3.. Train loss: 1.966.. Validation loss: 1.190.. Validation accuracy: 68.524%\n",
            "Epoch 3/3.. Train loss: 2.226.. Validation loss: 1.171.. Validation accuracy: 69.313%\n",
            "Epoch 3/3.. Train loss: 1.933.. Validation loss: 1.179.. Validation accuracy: 71.063%\n",
            "Epoch 3/3.. Train loss: 1.659.. Validation loss: 1.200.. Validation accuracy: 70.548%\n",
            "Epoch 3/3.. Train loss: 1.847.. Validation loss: 1.218.. Validation accuracy: 70.514%\n",
            "Epoch 3/3.. Train loss: 1.596.. Validation loss: 1.209.. Validation accuracy: 70.856%\n",
            "Epoch 3/3.. Train loss: 1.940.. Validation loss: 1.191.. Validation accuracy: 70.702%\n",
            "Epoch 3/3.. Train loss: 1.742.. Validation loss: 1.171.. Validation accuracy: 70.308%\n",
            "Epoch 3/3.. Train loss: 1.419.. Validation loss: 1.149.. Validation accuracy: 70.481%\n",
            "Epoch 3/3.. Train loss: 1.769.. Validation loss: 1.131.. Validation accuracy: 70.875%\n",
            "Epoch 3/3.. Train loss: 1.477.. Validation loss: 1.134.. Validation accuracy: 71.716%\n",
            "Epoch 3/3.. Train loss: 1.735.. Validation loss: 1.146.. Validation accuracy: 71.202%\n",
            "Epoch 3/3.. Train loss: 2.108.. Validation loss: 1.160.. Validation accuracy: 69.125%\n",
            "Epoch 3/3.. Train loss: 1.798.. Validation loss: 1.161.. Validation accuracy: 69.452%\n",
            "Epoch 3/3.. Train loss: 2.055.. Validation loss: 1.149.. Validation accuracy: 70.413%\n",
            "Epoch 3/3.. Train loss: 1.426.. Validation loss: 1.128.. Validation accuracy: 70.707%\n",
            "Epoch 3/3.. Train loss: 2.086.. Validation loss: 1.116.. Validation accuracy: 70.553%\n",
            "Epoch 3/3.. Train loss: 1.870.. Validation loss: 1.099.. Validation accuracy: 70.707%\n",
            "Epoch 3/3.. Train loss: 1.779.. Validation loss: 1.095.. Validation accuracy: 71.601%\n",
            "Epoch 3/3.. Train loss: 1.588.. Validation loss: 1.107.. Validation accuracy: 71.942%\n",
            "Epoch 3/3.. Train loss: 2.065.. Validation loss: 1.115.. Validation accuracy: 71.154%\n",
            "Epoch 3/3.. Train loss: 1.564.. Validation loss: 1.128.. Validation accuracy: 70.553%\n",
            "Epoch 3/3.. Train loss: 1.569.. Validation loss: 1.141.. Validation accuracy: 70.433%\n",
            "Epoch 3/3.. Train loss: 1.927.. Validation loss: 1.145.. Validation accuracy: 70.947%\n",
            "Epoch 3/3.. Train loss: 2.036.. Validation loss: 1.146.. Validation accuracy: 71.221%\n",
            "Epoch 3/3.. Train loss: 1.931.. Validation loss: 1.144.. Validation accuracy: 70.260%\n",
            "Epoch 3/3.. Train loss: 1.281.. Validation loss: 1.129.. Validation accuracy: 70.346%\n",
            "Epoch 3/3.. Train loss: 1.918.. Validation loss: 1.122.. Validation accuracy: 70.894%\n",
            "Epoch 3/3.. Train loss: 1.602.. Validation loss: 1.130.. Validation accuracy: 70.687%\n",
            "Epoch 3/3.. Train loss: 1.556.. Validation loss: 1.138.. Validation accuracy: 70.173%\n",
            "Epoch 3/3.. Train loss: 2.111.. Validation loss: 1.124.. Validation accuracy: 69.591%\n",
            "Epoch 3/3.. Train loss: 1.753.. Validation loss: 1.116.. Validation accuracy: 70.553%\n",
            "Epoch 3/3.. Train loss: 2.020.. Validation loss: 1.106.. Validation accuracy: 70.346%\n",
            "Epoch 3/3.. Train loss: 1.720.. Validation loss: 1.104.. Validation accuracy: 71.048%\n",
            "Epoch 3/3.. Train loss: 2.232.. Validation loss: 1.109.. Validation accuracy: 70.173%\n",
            "Epoch 3/3.. Train loss: 1.619.. Validation loss: 1.131.. Validation accuracy: 70.053%\n",
            "Epoch 3/3.. Train loss: 1.764.. Validation loss: 1.154.. Validation accuracy: 70.567%\n",
            "Epoch 3/3.. Train loss: 1.639.. Validation loss: 1.166.. Validation accuracy: 70.808%\n",
            "Epoch 3/3.. Train loss: 1.694.. Validation loss: 1.167.. Validation accuracy: 70.928%\n",
            "Epoch 3/3.. Train loss: 1.794.. Validation loss: 1.180.. Validation accuracy: 70.808%\n",
            "Epoch 3/3.. Train loss: 1.747.. Validation loss: 1.177.. Validation accuracy: 70.654%\n",
            "Epoch 3/3.. Train loss: 1.767.. Validation loss: 1.173.. Validation accuracy: 70.481%\n",
            "Epoch 3/3.. Train loss: 1.996.. Validation loss: 1.161.. Validation accuracy: 70.207%\n",
            "Epoch 3/3.. Train loss: 1.804.. Validation loss: 1.161.. Validation accuracy: 69.933%\n",
            "Epoch 3/3.. Train loss: 1.427.. Validation loss: 1.170.. Validation accuracy: 70.019%\n",
            "Epoch 3/3.. Train loss: 2.198.. Validation loss: 1.183.. Validation accuracy: 70.346%\n",
            "Epoch 3/3.. Train loss: 2.237.. Validation loss: 1.166.. Validation accuracy: 70.793%\n",
            "Epoch 3/3.. Train loss: 1.834.. Validation loss: 1.129.. Validation accuracy: 71.635%\n",
            "Epoch 3/3.. Train loss: 1.580.. Validation loss: 1.103.. Validation accuracy: 71.067%\n",
            "Epoch 3/3.. Train loss: 1.583.. Validation loss: 1.091.. Validation accuracy: 72.250%\n",
            "Epoch 3/3.. Train loss: 1.697.. Validation loss: 1.087.. Validation accuracy: 74.615%\n",
            "Epoch 3/3.. Train loss: 2.018.. Validation loss: 1.096.. Validation accuracy: 73.587%\n",
            "Epoch 3/3.. Train loss: 1.687.. Validation loss: 1.108.. Validation accuracy: 74.067%\n",
            "Epoch 3/3.. Train loss: 2.323.. Validation loss: 1.132.. Validation accuracy: 72.817%\n",
            "Epoch 3/3.. Train loss: 1.523.. Validation loss: 1.153.. Validation accuracy: 72.216%\n",
            "Epoch 3/3.. Train loss: 2.277.. Validation loss: 1.132.. Validation accuracy: 72.115%\n",
            "Epoch 3/3.. Train loss: 2.010.. Validation loss: 1.116.. Validation accuracy: 71.668%\n",
            "Epoch 3/3.. Train loss: 1.830.. Validation loss: 1.102.. Validation accuracy: 71.721%\n",
            "Epoch 3/3.. Train loss: 1.941.. Validation loss: 1.125.. Validation accuracy: 71.000%\n",
            "Epoch 3/3.. Train loss: 1.497.. Validation loss: 1.118.. Validation accuracy: 71.240%\n",
            "Epoch 3/3.. Train loss: 1.259.. Validation loss: 1.124.. Validation accuracy: 71.481%\n",
            "Epoch 3/3.. Train loss: 2.252.. Validation loss: 1.183.. Validation accuracy: 70.245%\n",
            "Epoch 3/3.. Train loss: 1.599.. Validation loss: 1.271.. Validation accuracy: 69.543%\n",
            "Epoch 3/3.. Train loss: 1.410.. Validation loss: 1.255.. Validation accuracy: 68.909%\n",
            "Epoch 3/3.. Train loss: 1.848.. Validation loss: 1.170.. Validation accuracy: 70.125%\n",
            "Epoch 3/3.. Train loss: 2.005.. Validation loss: 1.141.. Validation accuracy: 70.812%\n",
            "Epoch 3/3.. Train loss: 1.987.. Validation loss: 1.123.. Validation accuracy: 70.846%\n",
            "Epoch 3/3.. Train loss: 1.239.. Validation loss: 1.115.. Validation accuracy: 71.567%\n",
            "Epoch 3/3.. Train loss: 1.440.. Validation loss: 1.107.. Validation accuracy: 70.760%\n",
            "Epoch 3/3.. Train loss: 1.743.. Validation loss: 1.102.. Validation accuracy: 70.913%\n",
            "Epoch 3/3.. Train loss: 1.626.. Validation loss: 1.091.. Validation accuracy: 70.793%\n",
            "Epoch 3/3.. Train loss: 1.574.. Validation loss: 1.095.. Validation accuracy: 70.207%\n",
            "Epoch 3/3.. Train loss: 2.503.. Validation loss: 1.099.. Validation accuracy: 70.447%\n",
            "Epoch 3/3.. Train loss: 1.866.. Validation loss: 1.101.. Validation accuracy: 71.202%\n",
            "Epoch 3/3.. Train loss: 2.003.. Validation loss: 1.080.. Validation accuracy: 72.043%\n",
            "Epoch 3/3.. Train loss: 2.435.. Validation loss: 1.044.. Validation accuracy: 72.885%\n",
            "Epoch 3/3.. Train loss: 1.508.. Validation loss: 1.021.. Validation accuracy: 73.452%\n",
            "Epoch 3/3.. Train loss: 1.767.. Validation loss: 1.007.. Validation accuracy: 74.688%\n",
            "Epoch 3/3.. Train loss: 1.849.. Validation loss: 0.999.. Validation accuracy: 75.322%\n",
            "Epoch 3/3.. Train loss: 1.462.. Validation loss: 1.005.. Validation accuracy: 75.322%\n",
            "Epoch 3/3.. Train loss: 2.206.. Validation loss: 1.007.. Validation accuracy: 74.995%\n",
            "Epoch 3/3.. Train loss: 2.322.. Validation loss: 1.007.. Validation accuracy: 74.774%\n",
            "Epoch 3/3.. Train loss: 1.926.. Validation loss: 1.000.. Validation accuracy: 74.688%\n",
            "Epoch 3/3.. Train loss: 1.596.. Validation loss: 0.986.. Validation accuracy: 74.394%\n",
            "Epoch 3/3.. Train loss: 1.864.. Validation loss: 0.975.. Validation accuracy: 73.880%\n",
            "Epoch 3/3.. Train loss: 1.671.. Validation loss: 0.968.. Validation accuracy: 73.519%\n",
            "Epoch 3/3.. Train loss: 1.903.. Validation loss: 0.949.. Validation accuracy: 73.245%\n",
            "Epoch 3/3.. Train loss: 1.444.. Validation loss: 0.935.. Validation accuracy: 73.726%\n",
            "Epoch 3/3.. Train loss: 2.298.. Validation loss: 0.930.. Validation accuracy: 74.721%\n",
            "Epoch 3/3.. Train loss: 0.949.. Validation loss: 0.939.. Validation accuracy: 74.207%\n",
            "Epoch 3/3.. Train loss: 1.760.. Validation loss: 0.956.. Validation accuracy: 73.606%\n",
            "Epoch 3/3.. Train loss: 2.298.. Validation loss: 0.978.. Validation accuracy: 73.332%\n"
          ],
          "name": "stdout"
        }
      ]
    },
    {
      "metadata": {
        "id": "YkGVcxU7GiUj",
        "colab_type": "text"
      },
      "cell_type": "markdown",
      "source": [
        "## Testing your network\n",
        "\n",
        "It's good practice to test your trained network on test data, images the network has never seen either in training or validation. This will give you a good estimate for the model's performance on completely new images. Run the test images through the network and measure the accuracy, the same way you did validation. You should be able to reach around 70% accuracy on the test set if the model has been trained well."
      ]
    },
    {
      "metadata": {
        "id": "TJxFwtpjGiUk",
        "colab_type": "code",
        "colab": {
          "base_uri": "https://localhost:8080/",
          "height": 771
        },
        "outputId": "bfa8fb8c-67ec-408c-d2f1-96c9ef4ee952"
      },
      "cell_type": "code",
      "source": [
        "# TODO: Do validation on the test set\n",
        "test_loss = 0\n",
        "accuracy = 0\n",
        "\n",
        "model.eval()\n",
        "with torch.no_grad():\n",
        "    for inputs, labels in testloader:\n",
        "        inputs, labels = inputs.to(device), labels.to(device)\n",
        "        logps = model.forward(inputs)\n",
        "        batch_loss = criterion(logps, labels)\n",
        "\n",
        "        test_loss += batch_loss.item()\n",
        "\n",
        "        # Calculate accuracy\n",
        "        ps = torch.exp(logps)\n",
        "        top_p, top_class = ps.topk(1, dim=1)\n",
        "        equals = top_class == labels.view(*top_class.shape)\n",
        "        accuracy += torch.mean(equals.type(torch.FloatTensor)).item()\n",
        "\n",
        "print(f\"Test loss: {test_loss/len(testloader):.3f}.. \"\n",
        "      f\"Test accuracy: {accuracy/len(testloader)*100:.3f}%\")\n",
        "\n",
        "model.train()"
      ],
      "execution_count": 19,
      "outputs": [
        {
          "output_type": "stream",
          "text": [
            "Test loss: 1.102.. Test accuracy: 71.291%\n"
          ],
          "name": "stdout"
        },
        {
          "output_type": "execute_result",
          "data": {
            "text/plain": [
              "VGG(\n",
              "  (features): Sequential(\n",
              "    (0): Conv2d(3, 64, kernel_size=(3, 3), stride=(1, 1), padding=(1, 1))\n",
              "    (1): ReLU(inplace)\n",
              "    (2): Conv2d(64, 64, kernel_size=(3, 3), stride=(1, 1), padding=(1, 1))\n",
              "    (3): ReLU(inplace)\n",
              "    (4): MaxPool2d(kernel_size=2, stride=2, padding=0, dilation=1, ceil_mode=False)\n",
              "    (5): Conv2d(64, 128, kernel_size=(3, 3), stride=(1, 1), padding=(1, 1))\n",
              "    (6): ReLU(inplace)\n",
              "    (7): Conv2d(128, 128, kernel_size=(3, 3), stride=(1, 1), padding=(1, 1))\n",
              "    (8): ReLU(inplace)\n",
              "    (9): MaxPool2d(kernel_size=2, stride=2, padding=0, dilation=1, ceil_mode=False)\n",
              "    (10): Conv2d(128, 256, kernel_size=(3, 3), stride=(1, 1), padding=(1, 1))\n",
              "    (11): ReLU(inplace)\n",
              "    (12): Conv2d(256, 256, kernel_size=(3, 3), stride=(1, 1), padding=(1, 1))\n",
              "    (13): ReLU(inplace)\n",
              "    (14): Conv2d(256, 256, kernel_size=(3, 3), stride=(1, 1), padding=(1, 1))\n",
              "    (15): ReLU(inplace)\n",
              "    (16): MaxPool2d(kernel_size=2, stride=2, padding=0, dilation=1, ceil_mode=False)\n",
              "    (17): Conv2d(256, 512, kernel_size=(3, 3), stride=(1, 1), padding=(1, 1))\n",
              "    (18): ReLU(inplace)\n",
              "    (19): Conv2d(512, 512, kernel_size=(3, 3), stride=(1, 1), padding=(1, 1))\n",
              "    (20): ReLU(inplace)\n",
              "    (21): Conv2d(512, 512, kernel_size=(3, 3), stride=(1, 1), padding=(1, 1))\n",
              "    (22): ReLU(inplace)\n",
              "    (23): MaxPool2d(kernel_size=2, stride=2, padding=0, dilation=1, ceil_mode=False)\n",
              "    (24): Conv2d(512, 512, kernel_size=(3, 3), stride=(1, 1), padding=(1, 1))\n",
              "    (25): ReLU(inplace)\n",
              "    (26): Conv2d(512, 512, kernel_size=(3, 3), stride=(1, 1), padding=(1, 1))\n",
              "    (27): ReLU(inplace)\n",
              "    (28): Conv2d(512, 512, kernel_size=(3, 3), stride=(1, 1), padding=(1, 1))\n",
              "    (29): ReLU(inplace)\n",
              "    (30): MaxPool2d(kernel_size=2, stride=2, padding=0, dilation=1, ceil_mode=False)\n",
              "  )\n",
              "  (avgpool): AdaptiveAvgPool2d(output_size=(7, 7))\n",
              "  (classifier): Sequential(\n",
              "    (fc1): Linear(in_features=25088, out_features=12544, bias=True)\n",
              "    (relu): ReLU()\n",
              "    (dropout): Dropout(p=0.2)\n",
              "    (fc2): Linear(in_features=12544, out_features=102, bias=True)\n",
              "    (output): LogSoftmax()\n",
              "  )\n",
              ")"
            ]
          },
          "metadata": {
            "tags": []
          },
          "execution_count": 19
        }
      ]
    },
    {
      "metadata": {
        "id": "ipX_WS6ZGiUr",
        "colab_type": "text"
      },
      "cell_type": "markdown",
      "source": [
        "## Save the checkpoint\n",
        "\n",
        "Now that your network is trained, save the model so you can load it later for making predictions. You probably want to save other things such as the mapping of classes to indices which you get from one of the image datasets: `image_datasets['train'].class_to_idx`. You can attach this to the model as an attribute which makes inference easier later on.\n",
        "\n",
        "```model.class_to_idx = image_datasets['train'].class_to_idx```\n",
        "\n",
        "Remember that you'll want to completely rebuild the model later so you can use it for inference. Make sure to include any information you need in the checkpoint. If you want to load the model and keep training, you'll want to save the number of epochs as well as the optimizer state, `optimizer.state_dict`. You'll likely want to use this trained model in the next part of the project, so best to save it now."
      ]
    },
    {
      "metadata": {
        "id": "6iMTkLDpGiUs",
        "colab_type": "code",
        "colab": {
          "base_uri": "https://localhost:8080/",
          "height": 877
        },
        "outputId": "c5ae1b36-a9d3-4527-bc82-7da4650cb2b2"
      },
      "cell_type": "code",
      "source": [
        "# TODO: Save the checkpoint \n",
        "print(\"Our model: \\n\\n\", model, '\\n')\n",
        "print(\"The state dict keys: \\n\\n\", model.state_dict().keys())\n",
        "\n",
        "model.class_to_idx = trainloader.dataset.class_to_idx\n",
        "model.epochs = 3\n",
        "checkpoint = {'input_size': [3, 224, 224],\n",
        "                 'batch_size': trainloader.batch_size,\n",
        "                  'output_size': 102,\n",
        "                  'state_dict': model.state_dict(),\n",
        "                  'optimizer_dict':optimizer.state_dict(),\n",
        "                  'class_to_idx': model.class_to_idx,\n",
        "                  'epoch': model.epochs}\n",
        "\n",
        "torch.save(checkpoint, 'checkpoint1.pth')"
      ],
      "execution_count": 138,
      "outputs": [
        {
          "output_type": "stream",
          "text": [
            "Our model: \n",
            "\n",
            " VGG(\n",
            "  (features): Sequential(\n",
            "    (0): Conv2d(3, 64, kernel_size=(3, 3), stride=(1, 1), padding=(1, 1))\n",
            "    (1): ReLU(inplace)\n",
            "    (2): Conv2d(64, 64, kernel_size=(3, 3), stride=(1, 1), padding=(1, 1))\n",
            "    (3): ReLU(inplace)\n",
            "    (4): MaxPool2d(kernel_size=2, stride=2, padding=0, dilation=1, ceil_mode=False)\n",
            "    (5): Conv2d(64, 128, kernel_size=(3, 3), stride=(1, 1), padding=(1, 1))\n",
            "    (6): ReLU(inplace)\n",
            "    (7): Conv2d(128, 128, kernel_size=(3, 3), stride=(1, 1), padding=(1, 1))\n",
            "    (8): ReLU(inplace)\n",
            "    (9): MaxPool2d(kernel_size=2, stride=2, padding=0, dilation=1, ceil_mode=False)\n",
            "    (10): Conv2d(128, 256, kernel_size=(3, 3), stride=(1, 1), padding=(1, 1))\n",
            "    (11): ReLU(inplace)\n",
            "    (12): Conv2d(256, 256, kernel_size=(3, 3), stride=(1, 1), padding=(1, 1))\n",
            "    (13): ReLU(inplace)\n",
            "    (14): Conv2d(256, 256, kernel_size=(3, 3), stride=(1, 1), padding=(1, 1))\n",
            "    (15): ReLU(inplace)\n",
            "    (16): MaxPool2d(kernel_size=2, stride=2, padding=0, dilation=1, ceil_mode=False)\n",
            "    (17): Conv2d(256, 512, kernel_size=(3, 3), stride=(1, 1), padding=(1, 1))\n",
            "    (18): ReLU(inplace)\n",
            "    (19): Conv2d(512, 512, kernel_size=(3, 3), stride=(1, 1), padding=(1, 1))\n",
            "    (20): ReLU(inplace)\n",
            "    (21): Conv2d(512, 512, kernel_size=(3, 3), stride=(1, 1), padding=(1, 1))\n",
            "    (22): ReLU(inplace)\n",
            "    (23): MaxPool2d(kernel_size=2, stride=2, padding=0, dilation=1, ceil_mode=False)\n",
            "    (24): Conv2d(512, 512, kernel_size=(3, 3), stride=(1, 1), padding=(1, 1))\n",
            "    (25): ReLU(inplace)\n",
            "    (26): Conv2d(512, 512, kernel_size=(3, 3), stride=(1, 1), padding=(1, 1))\n",
            "    (27): ReLU(inplace)\n",
            "    (28): Conv2d(512, 512, kernel_size=(3, 3), stride=(1, 1), padding=(1, 1))\n",
            "    (29): ReLU(inplace)\n",
            "    (30): MaxPool2d(kernel_size=2, stride=2, padding=0, dilation=1, ceil_mode=False)\n",
            "  )\n",
            "  (avgpool): AdaptiveAvgPool2d(output_size=(7, 7))\n",
            "  (classifier): Sequential(\n",
            "    (fc1): Linear(in_features=25088, out_features=12544, bias=True)\n",
            "    (relu): ReLU()\n",
            "    (dropout): Dropout(p=0.2)\n",
            "    (fc2): Linear(in_features=12544, out_features=102, bias=True)\n",
            "    (output): LogSoftmax()\n",
            "  )\n",
            ") \n",
            "\n",
            "The state dict keys: \n",
            "\n",
            " odict_keys(['features.0.weight', 'features.0.bias', 'features.2.weight', 'features.2.bias', 'features.5.weight', 'features.5.bias', 'features.7.weight', 'features.7.bias', 'features.10.weight', 'features.10.bias', 'features.12.weight', 'features.12.bias', 'features.14.weight', 'features.14.bias', 'features.17.weight', 'features.17.bias', 'features.19.weight', 'features.19.bias', 'features.21.weight', 'features.21.bias', 'features.24.weight', 'features.24.bias', 'features.26.weight', 'features.26.bias', 'features.28.weight', 'features.28.bias', 'classifier.fc1.weight', 'classifier.fc1.bias', 'classifier.fc2.weight', 'classifier.fc2.bias'])\n"
          ],
          "name": "stdout"
        }
      ]
    },
    {
      "metadata": {
        "id": "x2N1xpb0SLV6",
        "colab_type": "code",
        "colab": {
          "base_uri": "https://localhost:8080/",
          "height": 137
        },
        "outputId": "5e0df180-3b37-4513-8bfa-5a1645b073cf"
      },
      "cell_type": "code",
      "source": [
        "!ls -l"
      ],
      "execution_count": 139,
      "outputs": [
        {
          "output_type": "stream",
          "text": [
            "total 5389240\n",
            "-rw-r--r-- 1 root root       2218 Apr 21 03:05 cat_to_name.json\n",
            "-rw-r--r-- 1 root root 3850819332 Apr 21 11:30 checkpoint1.pth\n",
            "-rw-r--r-- 1 root root 1322848274 Apr 21 04:49 checkpoint.pth\n",
            "-rw-r--r-- 1 root root  344873452 Jan 26  2018 flower_data.tar.gz\n",
            "drwxr-xr-x 5 root root       4096 Apr 21 03:05 flowers\n",
            "drwxr-xr-x 1 root root       4096 Apr  4 20:20 sample_data\n"
          ],
          "name": "stdout"
        }
      ]
    },
    {
      "metadata": {
        "id": "RyaGJnUkGiUz",
        "colab_type": "text"
      },
      "cell_type": "markdown",
      "source": [
        "## Loading the checkpoint\n",
        "\n",
        "At this point it's good to write a function that can load a checkpoint and rebuild the model. That way you can come back to this project and keep working on it without having to retrain the network."
      ]
    },
    {
      "metadata": {
        "id": "LWmlMeAyTn__",
        "colab_type": "code",
        "colab": {}
      },
      "cell_type": "code",
      "source": [
        "# TODO: Write a function that loads a checkpoint and rebuilds the model\n",
        "\n",
        "def loadCheckpoint(filepath):     \n",
        "\n",
        "    from collections import OrderedDict\n",
        "    classifier = nn.Sequential(OrderedDict([\n",
        "                              ('fc1', nn.Linear(25088, 12544)),\n",
        "                              ('relu', nn.ReLU()),\n",
        "                              ('dropout', nn.Dropout(0.2)),\n",
        "                              ('fc2', nn.Linear(12544, 102)),\n",
        "                              ('output', nn.LogSoftmax(dim=1))\n",
        "                              ]))\n",
        "\n",
        "    loadingModel = models.vgg16()\n",
        "    \n",
        "    loadingModel.classifier = classifier\n",
        "\n",
        "    checkpoint = torch.load(filepath)\n",
        "    \n",
        "    loadingModel.load_state_dict(checkpoint['state_dict'])\n",
        "    \n",
        "    return loadingModel, checkpoint['class_to_idx']"
      ],
      "execution_count": 0,
      "outputs": []
    },
    {
      "metadata": {
        "id": "TB0ZBTLTT48Q",
        "colab_type": "code",
        "colab": {
          "base_uri": "https://localhost:8080/",
          "height": 34
        },
        "outputId": "67f1070c-39ad-4155-dab8-1429440a1e30"
      },
      "cell_type": "code",
      "source": [
        "loadedModel, class_to_idx = loadCheckpoint('checkpoint1.pth')\n",
        "\n",
        "idx_to_class = { v : k for k,v in class_to_idx.items()}\n",
        "\n",
        "loadedModel.to(device)\n",
        "loadedModel.eval()\n",
        "accuracy = 0\n",
        "with torch.no_grad():\n",
        "    for inputs, labels in testloader:\n",
        "        inputs, labels = inputs.to(device), labels.to(device)\n",
        "        logps = loadedModel.forward(inputs)\n",
        "        batch_loss = criterion(logps, labels)\n",
        "\n",
        "        test_loss += batch_loss.item()\n",
        "\n",
        "        # Calculate accuracy\n",
        "        ps = torch.exp(logps)\n",
        "        top_p, top_class = ps.topk(1, dim=1)\n",
        "        equals = top_class == labels.view(*top_class.shape)\n",
        "        accuracy += torch.mean(equals.type(torch.FloatTensor)).item()\n",
        "\n",
        "print(f\"Test loss: {test_loss/len(testloader):.3f}.. \"\n",
        "      f\"Test accuracy: {accuracy/len(testloader)*100:.3f}%\")\n"
      ],
      "execution_count": 142,
      "outputs": [
        {
          "output_type": "stream",
          "text": [
            "Test loss: 3.307.. Test accuracy: 71.291%\n"
          ],
          "name": "stdout"
        }
      ]
    },
    {
      "metadata": {
        "id": "rMNDeXrLuNli",
        "colab_type": "code",
        "colab": {
          "base_uri": "https://localhost:8080/",
          "height": 86
        },
        "outputId": "206aa1a1-2391-406f-9978-de1d7e4cbfaf"
      },
      "cell_type": "code",
      "source": [
        "with torch.no_grad():\n",
        "    for inputs, labels in testloader:\n",
        "        input0 = inputs[0]\n",
        "        label0 = labels[0]\n",
        "        input0, label0 = input0.to(device), label0.to(device)\n",
        "        inputs, labels = inputs.to(device), labels.to(device)\n",
        "        logps = loadedModel.forward(inputs[4:5])\n",
        "\n",
        "        # Calculate accuracy\n",
        "        ps = torch.exp(logps)\n",
        "        \n",
        "        top_p, top_class = ps.topk(5, dim=1)\n",
        "        \n",
        "        print(top_p)\n",
        "        print(top_class)\n",
        "        print(labels[:5])\n",
        "        \n",
        "        print(inputs[4:5].size())\n",
        "        \n",
        "        break"
      ],
      "execution_count": 79,
      "outputs": [
        {
          "output_type": "stream",
          "text": [
            "tensor([[0.4596, 0.2675, 0.1316, 0.0419, 0.0156]], device='cuda:0')\n",
            "tensor([[76, 53,  0, 13, 50]], device='cuda:0')\n",
            "tensor([0, 0, 0, 0, 0], device='cuda:0')\n",
            "torch.Size([1, 3, 224, 224])\n"
          ],
          "name": "stdout"
        }
      ]
    },
    {
      "metadata": {
        "id": "K5gE7P0ztCOC",
        "colab_type": "code",
        "colab": {
          "base_uri": "https://localhost:8080/",
          "height": 51
        },
        "outputId": "c24c2a78-a697-4463-ef68-8dd22df74d2f"
      },
      "cell_type": "code",
      "source": [
        "for inputs, labels in testloader:\n",
        "    print(inputs[0].size())\n",
        "    print(labels[0].size())\n",
        "    break"
      ],
      "execution_count": 46,
      "outputs": [
        {
          "output_type": "stream",
          "text": [
            "torch.Size([3, 224, 224])\n",
            "torch.Size([])\n"
          ],
          "name": "stdout"
        }
      ]
    },
    {
      "metadata": {
        "id": "LlNZDgKeGiVd",
        "colab_type": "text"
      },
      "cell_type": "markdown",
      "source": [
        "# Inference for classification\n",
        "\n",
        "Now you'll write a function to use a trained network for inference. That is, you'll pass an image into the network and predict the class of the flower in the image. Write a function called `predict` that takes an image and a model, then returns the top $K$ most likely classes along with the probabilities. It should look like \n",
        "\n",
        "```python\n",
        "probs, classes = predict(image_path, model)\n",
        "print(probs)\n",
        "print(classes)\n",
        "> [ 0.01558163  0.01541934  0.01452626  0.01443549  0.01407339]\n",
        "> ['70', '3', '45', '62', '55']\n",
        "```\n",
        "\n",
        "First you'll need to handle processing the input image such that it can be used in your network. \n",
        "\n",
        "## Image Preprocessing\n",
        "\n",
        "You'll want to use `PIL` to load the image ([documentation](https://pillow.readthedocs.io/en/latest/reference/Image.html)). It's best to write a function that preprocesses the image so it can be used as input for the model. This function should process the images in the same manner used for training. \n",
        "\n",
        "First, resize the images where the shortest side is 256 pixels, keeping the aspect ratio. This can be done with the [`thumbnail`](http://pillow.readthedocs.io/en/3.1.x/reference/Image.html#PIL.Image.Image.thumbnail) or [`resize`](http://pillow.readthedocs.io/en/3.1.x/reference/Image.html#PIL.Image.Image.thumbnail) methods. Then you'll need to crop out the center 224x224 portion of the image.\n",
        "\n",
        "Color channels of images are typically encoded as integers 0-255, but the model expected floats 0-1. You'll need to convert the values. It's easiest with a Numpy array, which you can get from a PIL image like so `np_image = np.array(pil_image)`.\n",
        "\n",
        "As before, the network expects the images to be normalized in a specific way. For the means, it's `[0.485, 0.456, 0.406]` and for the standard deviations `[0.229, 0.224, 0.225]`. You'll want to subtract the means from each color channel, then divide by the standard deviation. \n",
        "\n",
        "And finally, PyTorch expects the color channel to be the first dimension but it's the third dimension in the PIL image and Numpy array. You can reorder dimensions using [`ndarray.transpose`](https://docs.scipy.org/doc/numpy-1.13.0/reference/generated/numpy.ndarray.transpose.html). The color channel needs to be first and retain the order of the other two dimensions."
      ]
    },
    {
      "metadata": {
        "id": "Vmyyw9XrGiVf",
        "colab_type": "code",
        "colab": {}
      },
      "cell_type": "code",
      "source": [
        "from PIL import Image\n",
        "import numpy as np\n",
        "\n",
        "\n",
        "def process_image(image):\n",
        "    ''' Scales, crops, and normalizes a PIL image for a PyTorch model,\n",
        "        returns an Numpy array\n",
        "    '''\n",
        "    # Open Image\n",
        "    im = Image.open(image)\n",
        "    \n",
        "    #Scale Image on the shortest side\n",
        "    width = 0 \n",
        "    height = 0\n",
        "    \n",
        "    img_width, img_height = im.size        \n",
        "    \n",
        "    if (img_width < img_height):\n",
        "        # Height is greater, so width is the shortest\n",
        "        width = 255\n",
        "        height = img_height\n",
        "    else:\n",
        "        # Width is greater, so width is the shortest\n",
        "        width = img_width\n",
        "        height = 255\n",
        "                       \n",
        "    im = im.resize((width, height))\n",
        "        \n",
        "    #Center crop Image\n",
        "    x1 = (width - 224) // 2\n",
        "    y1 = (height- 224) // 2\n",
        "    x2 = x1 + 224\n",
        "    y2 = y1 + 224        \n",
        "    \n",
        "    im = im.crop((x1,y1,x2,y2))\n",
        "    \n",
        "    #Normalize image\n",
        "    img = np.array(im)\n",
        "    \n",
        "    img = img / 255        \n",
        "    \n",
        "    mean = np.array([0.485, 0.456, 0.406])\n",
        "    std = np.array([0.229, 0.224, 0.225])    \n",
        "    img = (img - mean) / std\n",
        "        \n",
        "    #Transpose Image for Model        \n",
        "    img = np.transpose(img, (2, 1, 0))       \n",
        "    img = np.transpose(img, (0, 2, 1))\n",
        "    \n",
        "    return  img\n"
      ],
      "execution_count": 0,
      "outputs": []
    },
    {
      "metadata": {
        "id": "2tDc6AW0DdDi",
        "colab_type": "code",
        "colab": {
          "base_uri": "https://localhost:8080/",
          "height": 51
        },
        "outputId": "df404c3e-973d-4c03-f9bb-cfe3e5c92411"
      },
      "cell_type": "code",
      "source": [
        "#Update image shape for Model\n",
        "input_image = process_image('./flowers/test/99/image_07838.jpg')\n",
        "\n",
        "image_tesnor = torch.from_numpy(input_image)    \n",
        "\n",
        "image_reshaped = image_tesnor.view(1, 3, 224, 224)\n",
        "\n",
        "with torch.no_grad():\n",
        "    logps = loadedModel.forward(image_reshaped.float().to(device))\n",
        "\n",
        "    ps = torch.exp(logps)\n",
        "\n",
        "    top_p, top_class = ps.topk(5, dim=1)\n",
        "\n",
        "    top_class_id = [idx_to_class[x] for x in top_class.to('cpu').numpy()[0]]\n",
        "    print(top_p.to('cpu').numpy()[0])\n",
        "    print(top_class_id)\n"
      ],
      "execution_count": 178,
      "outputs": [
        {
          "output_type": "stream",
          "text": [
            "[5.8284968e-01 3.8255379e-01 2.6025986e-02 7.7065141e-03 3.8114918e-04]\n",
            "['99', '73', '71', '81', '24']\n"
          ],
          "name": "stdout"
        }
      ]
    },
    {
      "metadata": {
        "id": "ZPt9pVGU3gcJ",
        "colab_type": "code",
        "colab": {
          "base_uri": "https://localhost:8080/",
          "height": 86
        },
        "outputId": "c2a35c49-03b3-4c9b-c444-c367ebf826ca"
      },
      "cell_type": "code",
      "source": [
        "!ls ./flowers/test/83/"
      ],
      "execution_count": 173,
      "outputs": [
        {
          "output_type": "stream",
          "text": [
            "image_01735.jpg  image_01755.jpg  image_01777.jpg  image_01810.jpg\n",
            "image_01737.jpg  image_01759.jpg  image_01789.jpg  image_01818.jpg\n",
            "image_01742.jpg  image_01770.jpg  image_01805.jpg\n",
            "image_01748.jpg  image_01774.jpg  image_01809.jpg\n"
          ],
          "name": "stdout"
        }
      ]
    },
    {
      "metadata": {
        "id": "0FBDM7uOGiVj",
        "colab_type": "text"
      },
      "cell_type": "markdown",
      "source": [
        "To check your work, the function below converts a PyTorch tensor and displays it in the notebook. If your `process_image` function works, running the output through this function should return the original image (except for the cropped out portions)."
      ]
    },
    {
      "metadata": {
        "id": "w1pAIXpbGiVk",
        "colab_type": "code",
        "colab": {
          "base_uri": "https://localhost:8080/",
          "height": 285
        },
        "outputId": "fd20e856-8c1f-41c4-bafb-e4ab9e43132d"
      },
      "cell_type": "code",
      "source": [
        "def imshow(image, ax=None, title=\"\"):\n",
        "    \"\"\"Imshow for Tensor.\"\"\"\n",
        "    if ax is None:\n",
        "        fig, ax = plt.subplots()\n",
        "    \n",
        "    # PyTorch tensors assume the color channel is the first dimension\n",
        "    # but matplotlib assumes is the third dimension\n",
        "    image = image.numpy().transpose((1, 2, 0))\n",
        "    \n",
        "    # Undo preprocessing\n",
        "    mean = np.array([0.485, 0.456, 0.406])\n",
        "    std = np.array([0.229, 0.224, 0.225])\n",
        "    image = std * image + mean\n",
        "    \n",
        "    # Image needs to be clipped between 0 and 1 or it looks like noise when displayed\n",
        "    image = np.clip(image, 0, 1)\n",
        "        \n",
        "    ax.set_title(title)\n",
        "    ax.imshow(image)\n",
        "    \n",
        "    return ax\n",
        "\n",
        "imshow(image_tesnor)"
      ],
      "execution_count": 189,
      "outputs": [
        {
          "output_type": "execute_result",
          "data": {
            "text/plain": [
              "<matplotlib.axes._subplots.AxesSubplot at 0x7ff60e3974a8>"
            ]
          },
          "metadata": {
            "tags": []
          },
          "execution_count": 189
        },
        {
          "output_type": "display_data",
          "data": {
            "image/png": "[encoded data removed]",
            "text/plain": [
              "<Figure size 432x288 with 1 Axes>"
            ]
          },
          "metadata": {
            "tags": [],
            "image/png": {
              "width": 259,
              "height": 251
            }
          }
        }
      ]
    },
    {
      "metadata": {
        "id": "Gh9akUPZGiVm",
        "colab_type": "text"
      },
      "cell_type": "markdown",
      "source": [
        "## Class Prediction\n",
        "\n",
        "Once you can get images in the correct format, it's time to write a function for making predictions with your model. A common practice is to predict the top 5 or so (usually called top-$K$) most probable classes. You'll want to calculate the class probabilities then find the $K$ largest values.\n",
        "\n",
        "To get the top $K$ largest values in a tensor use [`x.topk(k)`](http://pytorch.org/docs/master/torch.html#torch.topk). This method returns both the highest `k` probabilities and the indices of those probabilities corresponding to the classes. You need to convert from these indices to the actual class labels using `class_to_idx` which hopefully you added to the model or from an `ImageFolder` you used to load the data ([see here](#Save-the-checkpoint)). Make sure to invert the dictionary so you get a mapping from index to class as well.\n",
        "\n",
        "Again, this method should take a path to an image and a model checkpoint, then return the probabilities and classes.\n",
        "\n",
        "```python\n",
        "probs, classes = predict(image_path, model)\n",
        "print(probs)\n",
        "print(classes)\n",
        "> [ 0.01558163  0.01541934  0.01452626  0.01443549  0.01407339]\n",
        "> ['70', '3', '45', '62', '55']\n",
        "```"
      ]
    },
    {
      "metadata": {
        "id": "q5QP423JGiVn",
        "colab_type": "code",
        "colab": {
          "base_uri": "https://localhost:8080/",
          "height": 51
        },
        "outputId": "a779f2ec-e1b3-4823-b413-e64cfe304ee0"
      },
      "cell_type": "code",
      "source": [
        "def predict(image_path, model, topk=5):\n",
        "    ''' Predict the class (or classes) of an image using a trained deep learning model.\n",
        "    '''\n",
        "    \n",
        "    # TODO: Implement the code to predict the class from an image file\n",
        "    #Update image shape for Model\n",
        "    input_image = process_image(image_path)\n",
        "\n",
        "    label = cat_to_name[image_path.split('/')[-2]]\n",
        "    \n",
        "    image_tesnor = torch.from_numpy(input_image)    \n",
        "\n",
        "    image_reshaped = image_tesnor.view(1, 3, 224, 224)\n",
        "    \n",
        "    with torch.no_grad():\n",
        "        logps = loadedModel.forward(image_reshaped.float().to(device))\n",
        "\n",
        "        ps = torch.exp(logps)\n",
        "\n",
        "        top_p, top_class = ps.topk(5, dim=1)\n",
        "\n",
        "        top_class_id = [idx_to_class[x] for x in top_class.to('cpu').numpy()[0]]\n",
        "\n",
        "        top_class_names = [cat_to_name[str(i)] for i in top_class_id]\n",
        "        \n",
        "    return image_tesnor, label, top_p.to('cpu').numpy()[0], top_class_names\n",
        "    \n",
        "image_tesnor, label, top_p, top_class = predict('./flowers/test/83/image_01742.jpg', loadedModel, 5)    \n",
        "\n",
        "print('Top 5 Probabilities: ', top_p)\n",
        "print('Top 5 Clases: ', top_class)"
      ],
      "execution_count": 196,
      "outputs": [
        {
          "output_type": "stream",
          "text": [
            "Top 5 Probabilities:  [0.3794525  0.18143113 0.11240713 0.10476156 0.04772022]\n",
            "Top 5 Clases:  ['hibiscus', 'morning glory', 'sword lily', 'petunia', 'thorn apple']\n"
          ],
          "name": "stdout"
        }
      ]
    },
    {
      "metadata": {
        "id": "NIlbI1FfGiVp",
        "colab_type": "text"
      },
      "cell_type": "markdown",
      "source": [
        "## Sanity Checking\n",
        "\n",
        "Now that you can use a trained model for predictions, check to make sure it makes sense. Even if the testing accuracy is high, it's always good to check that there aren't obvious bugs. Use `matplotlib` to plot the probabilities for the top 5 classes as a bar graph, along with the input image. It should look like this:\n",
        "\n",
        "<img src='https://github.com/vsagarmb/aipnd-project/blob/master/assets/inference_example.png?raw=1' width=300px>\n",
        "\n",
        "You can convert from the class integer encoding to actual flower names with the `cat_to_name.json` file (should have been loaded earlier in the notebook). To show a PyTorch tensor as an image, use the `imshow` function defined above."
      ]
    },
    {
      "metadata": {
        "id": "AX3c_UQMGiVq",
        "colab_type": "code",
        "colab": {
          "base_uri": "https://localhost:8080/",
          "height": 51
        },
        "outputId": "9751fa37-d799-4890-c125-022c74f125c9"
      },
      "cell_type": "code",
      "source": [
        "# TODO: Display an image along with the top 5 classes\n",
        "image_tesnor, label, top_p, top_class_names = predict('./flowers/test/83/image_01742.jpg', loadedModel, 5)    \n",
        "\n",
        "print(f'Top 5 Probabilities : {top_p}')\n",
        "print(f'Top 5 Class Names   : {top_class_names}')\n"
      ],
      "execution_count": 193,
      "outputs": [
        {
          "output_type": "stream",
          "text": [
            "Top 5 Probabilities : [0.3794525  0.18143113 0.11240713 0.10476156 0.04772022]\n",
            "Top 5 Class Names   : ['hibiscus', 'morning glory', 'sword lily', 'petunia', 'thorn apple']\n"
          ],
          "name": "stdout"
        }
      ]
    },
    {
      "metadata": {
        "id": "RsDnYmwcxeTF",
        "colab_type": "code",
        "colab": {
          "base_uri": "https://localhost:8080/",
          "height": 199
        },
        "outputId": "d7171436-2581-4465-adac-ccc976d6c9f5"
      },
      "cell_type": "code",
      "source": [
        "def view_predict(image_tesnor, label, top_p, top_class_names):\n",
        "\n",
        "    fig, (ax1, ax2) = plt.subplots(figsize=(6, 9), ncols=2)\n",
        "\n",
        "    imshow(image_tesnor, ax1, label)\n",
        "\n",
        "    ax2.barh(np.arange(5), top_p[::-1])\n",
        "    ax2.set_aspect(0.2)\n",
        "    ax2.set_yticks(np.arange(5))\n",
        "    ax2.set_yticklabels(top_class_names[::-1], size='small');\n",
        "    ax2.set_title('Class Probability')\n",
        "    ax2.set_xlim(0, 1.1)\n",
        "\n",
        "    plt.tight_layout()\n",
        "\n",
        "view_predict(predict('./flowers/test/83/image_01742.jpg', loadedModel, 5))"
      ],
      "execution_count": 197,
      "outputs": [
        {
          "output_type": "error",
          "ename": "TypeError",
          "evalue": "ignored",
          "traceback": [
            "\u001b[0;31m---------------------------------------------------------------------------\u001b[0m",
            "\u001b[0;31mTypeError\u001b[0m                                 Traceback (most recent call last)",
            "\u001b[0;32m<ipython-input-197-1c7e9a6d95f8>\u001b[0m in \u001b[0;36m<module>\u001b[0;34m()\u001b[0m\n\u001b[1;32m     14\u001b[0m     \u001b[0mplt\u001b[0m\u001b[0;34m.\u001b[0m\u001b[0mtight_layout\u001b[0m\u001b[0;34m(\u001b[0m\u001b[0;34m)\u001b[0m\u001b[0;34m\u001b[0m\u001b[0;34m\u001b[0m\u001b[0m\n\u001b[1;32m     15\u001b[0m \u001b[0;34m\u001b[0m\u001b[0m\n\u001b[0;32m---> 16\u001b[0;31m \u001b[0mview_predict\u001b[0m\u001b[0;34m(\u001b[0m\u001b[0mpredict\u001b[0m\u001b[0;34m(\u001b[0m\u001b[0;34m'./flowers/test/83/image_01742.jpg'\u001b[0m\u001b[0;34m,\u001b[0m \u001b[0mloadedModel\u001b[0m\u001b[0;34m,\u001b[0m \u001b[0;36m5\u001b[0m\u001b[0;34m)\u001b[0m\u001b[0;34m)\u001b[0m\u001b[0;34m\u001b[0m\u001b[0;34m\u001b[0m\u001b[0m\n\u001b[0m",
            "\u001b[0;31mTypeError\u001b[0m: view_predict() missing 3 required positional arguments: 'label', 'top_p', and 'top_class_names'"
          ]
        }
      ]
    }
  ]
}